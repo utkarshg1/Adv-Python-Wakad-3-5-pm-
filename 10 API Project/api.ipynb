{
 "cells": [
  {
   "cell_type": "markdown",
   "metadata": {},
   "source": [
    "# Project 2 - Stock Market API Project"
   ]
  },
  {
   "cell_type": "code",
   "execution_count": 1,
   "metadata": {},
   "outputs": [
    {
     "name": "stdout",
     "output_type": "stream",
     "text": [
      "Collecting python-dotenv\n",
      "  Using cached python_dotenv-1.0.1-py3-none-any.whl.metadata (23 kB)\n",
      "Requirement already satisfied: plotly in c:\\adv python wakad 3-5pm\\repository\\venv\\lib\\site-packages (5.24.1)\n",
      "Requirement already satisfied: nbformat in c:\\adv python wakad 3-5pm\\repository\\venv\\lib\\site-packages (5.10.4)\n",
      "Requirement already satisfied: tenacity>=6.2.0 in c:\\adv python wakad 3-5pm\\repository\\venv\\lib\\site-packages (from plotly) (9.0.0)\n",
      "Requirement already satisfied: packaging in c:\\adv python wakad 3-5pm\\repository\\venv\\lib\\site-packages (from plotly) (24.2)\n",
      "Requirement already satisfied: fastjsonschema>=2.15 in c:\\adv python wakad 3-5pm\\repository\\venv\\lib\\site-packages (from nbformat) (2.21.0)\n",
      "Requirement already satisfied: jsonschema>=2.6 in c:\\adv python wakad 3-5pm\\repository\\venv\\lib\\site-packages (from nbformat) (4.23.0)\n",
      "Requirement already satisfied: jupyter-core!=5.0.*,>=4.12 in c:\\adv python wakad 3-5pm\\repository\\venv\\lib\\site-packages (from nbformat) (5.7.2)\n",
      "Requirement already satisfied: traitlets>=5.1 in c:\\adv python wakad 3-5pm\\repository\\venv\\lib\\site-packages (from nbformat) (5.14.3)\n",
      "Requirement already satisfied: attrs>=22.2.0 in c:\\adv python wakad 3-5pm\\repository\\venv\\lib\\site-packages (from jsonschema>=2.6->nbformat) (24.2.0)\n",
      "Requirement already satisfied: jsonschema-specifications>=2023.03.6 in c:\\adv python wakad 3-5pm\\repository\\venv\\lib\\site-packages (from jsonschema>=2.6->nbformat) (2024.10.1)\n",
      "Requirement already satisfied: referencing>=0.28.4 in c:\\adv python wakad 3-5pm\\repository\\venv\\lib\\site-packages (from jsonschema>=2.6->nbformat) (0.35.1)\n",
      "Requirement already satisfied: rpds-py>=0.7.1 in c:\\adv python wakad 3-5pm\\repository\\venv\\lib\\site-packages (from jsonschema>=2.6->nbformat) (0.21.0)\n",
      "Requirement already satisfied: platformdirs>=2.5 in c:\\adv python wakad 3-5pm\\repository\\venv\\lib\\site-packages (from jupyter-core!=5.0.*,>=4.12->nbformat) (4.3.6)\n",
      "Requirement already satisfied: pywin32>=300 in c:\\adv python wakad 3-5pm\\repository\\venv\\lib\\site-packages (from jupyter-core!=5.0.*,>=4.12->nbformat) (308)\n",
      "Using cached python_dotenv-1.0.1-py3-none-any.whl (19 kB)\n",
      "Installing collected packages: python-dotenv\n",
      "Successfully installed python-dotenv-1.0.1\n",
      "Note: you may need to restart the kernel to use updated packages.\n"
     ]
    }
   ],
   "source": [
    "%pip install python-dotenv plotly nbformat"
   ]
  },
  {
   "cell_type": "markdown",
   "metadata": {},
   "source": [
    "### Load the api key from .env file"
   ]
  },
  {
   "cell_type": "code",
   "execution_count": 2,
   "metadata": {},
   "outputs": [
    {
     "data": {
      "text/plain": [
       "True"
      ]
     },
     "execution_count": 2,
     "metadata": {},
     "output_type": "execute_result"
    }
   ],
   "source": [
    "from dotenv import load_dotenv\n",
    "load_dotenv()"
   ]
  },
  {
   "cell_type": "code",
   "execution_count": 4,
   "metadata": {},
   "outputs": [],
   "source": [
    "import os\n",
    "api_key = os.getenv(\"API_KEY\")"
   ]
  },
  {
   "cell_type": "markdown",
   "metadata": {},
   "source": [
    "### 1. Get the company stock symbol"
   ]
  },
  {
   "cell_type": "code",
   "execution_count": 7,
   "metadata": {},
   "outputs": [
    {
     "data": {
      "text/plain": [
       "{'bestMatches': [{'1. symbol': 'SBIN.BSE',\n",
       "   '2. name': 'State Bank of India',\n",
       "   '3. type': 'Equity',\n",
       "   '4. region': 'India/Bombay',\n",
       "   '5. marketOpen': '09:15',\n",
       "   '6. marketClose': '15:30',\n",
       "   '7. timezone': 'UTC+5.5',\n",
       "   '8. currency': 'INR',\n",
       "   '9. matchScore': '1.0000'},\n",
       "  {'1. symbol': 'SBKFF',\n",
       "   '2. name': 'State Bank of India',\n",
       "   '3. type': 'Equity',\n",
       "   '4. region': 'United States',\n",
       "   '5. marketOpen': '09:30',\n",
       "   '6. marketClose': '16:00',\n",
       "   '7. timezone': 'UTC-04',\n",
       "   '8. currency': 'USD',\n",
       "   '9. matchScore': '1.0000'},\n",
       "  {'1. symbol': 'SID.FRK',\n",
       "   '2. name': 'State Bank of India',\n",
       "   '3. type': 'Equity',\n",
       "   '4. region': 'Frankfurt',\n",
       "   '5. marketOpen': '08:00',\n",
       "   '6. marketClose': '20:00',\n",
       "   '7. timezone': 'UTC+02',\n",
       "   '8. currency': 'EUR',\n",
       "   '9. matchScore': '1.0000'},\n",
       "  {'1. symbol': 'SBID.LON',\n",
       "   '2. name': 'State Bank of India GDR',\n",
       "   '3. type': 'Equity',\n",
       "   '4. region': 'United Kingdom',\n",
       "   '5. marketOpen': '08:00',\n",
       "   '6. marketClose': '16:30',\n",
       "   '7. timezone': 'UTC+01',\n",
       "   '8. currency': 'USD',\n",
       "   '9. matchScore': '0.9048'}]}"
      ]
     },
     "execution_count": 7,
     "metadata": {},
     "output_type": "execute_result"
    }
   ],
   "source": [
    "import requests\n",
    "\n",
    "url = \"https://alpha-vantage.p.rapidapi.com/query\"\n",
    "\n",
    "querystring = {\"datatype\":\"json\",\"keywords\":\"State Bank of India\",\"function\":\"SYMBOL_SEARCH\"}\n",
    "\n",
    "headers = {\n",
    "\t\"x-rapidapi-key\": api_key,\n",
    "\t\"x-rapidapi-host\": \"alpha-vantage.p.rapidapi.com\"\n",
    "}\n",
    "\n",
    "response = requests.get(url, headers=headers, params=querystring)\n",
    "\n",
    "response.json()"
   ]
  },
  {
   "cell_type": "markdown",
   "metadata": {},
   "source": [
    "### Get daily stock details for SBIN.BSE"
   ]
  },
  {
   "cell_type": "code",
   "execution_count": 8,
   "metadata": {},
   "outputs": [],
   "source": [
    "import requests\n",
    "\n",
    "url = \"https://alpha-vantage.p.rapidapi.com/query\"\n",
    "\n",
    "querystring = {\"function\":\"TIME_SERIES_DAILY\",\"symbol\":\"SBIN.BSE\",\"outputsize\":\"compact\",\"datatype\":\"json\"}\n",
    "\n",
    "headers = {\n",
    "\t\"x-rapidapi-key\": api_key,\n",
    "\t\"x-rapidapi-host\": \"alpha-vantage.p.rapidapi.com\"\n",
    "}\n",
    "\n",
    "response = requests.get(url, headers=headers, params=querystring)\n",
    "\n",
    "data = response.json()"
   ]
  },
  {
   "cell_type": "code",
   "execution_count": 10,
   "metadata": {},
   "outputs": [
    {
     "data": {
      "text/plain": [
       "dict_keys(['Meta Data', 'Time Series (Daily)'])"
      ]
     },
     "execution_count": 10,
     "metadata": {},
     "output_type": "execute_result"
    }
   ],
   "source": [
    "data.keys()"
   ]
  },
  {
   "cell_type": "code",
   "execution_count": 12,
   "metadata": {},
   "outputs": [],
   "source": [
    "daily = data[\"Time Series (Daily)\"]"
   ]
  },
  {
   "cell_type": "code",
   "execution_count": 14,
   "metadata": {},
   "outputs": [
    {
     "data": {
      "text/html": [
       "<div>\n",
       "<style scoped>\n",
       "    .dataframe tbody tr th:only-of-type {\n",
       "        vertical-align: middle;\n",
       "    }\n",
       "\n",
       "    .dataframe tbody tr th {\n",
       "        vertical-align: top;\n",
       "    }\n",
       "\n",
       "    .dataframe thead th {\n",
       "        text-align: right;\n",
       "    }\n",
       "</style>\n",
       "<table border=\"1\" class=\"dataframe\">\n",
       "  <thead>\n",
       "    <tr style=\"text-align: right;\">\n",
       "      <th></th>\n",
       "      <th>1. open</th>\n",
       "      <th>2. high</th>\n",
       "      <th>3. low</th>\n",
       "      <th>4. close</th>\n",
       "      <th>5. volume</th>\n",
       "    </tr>\n",
       "  </thead>\n",
       "  <tbody>\n",
       "    <tr>\n",
       "      <th>2025-01-02</th>\n",
       "      <td>795.0000</td>\n",
       "      <td>802.4000</td>\n",
       "      <td>786.3000</td>\n",
       "      <td>801.0500</td>\n",
       "      <td>711599</td>\n",
       "    </tr>\n",
       "    <tr>\n",
       "      <th>2025-01-01</th>\n",
       "      <td>796.8500</td>\n",
       "      <td>798.5000</td>\n",
       "      <td>789.6000</td>\n",
       "      <td>793.3500</td>\n",
       "      <td>356031</td>\n",
       "    </tr>\n",
       "    <tr>\n",
       "      <th>2024-12-31</th>\n",
       "      <td>788.7500</td>\n",
       "      <td>798.9500</td>\n",
       "      <td>787.0000</td>\n",
       "      <td>795.0500</td>\n",
       "      <td>283620</td>\n",
       "    </tr>\n",
       "    <tr>\n",
       "      <th>2024-12-30</th>\n",
       "      <td>802.7000</td>\n",
       "      <td>808.0000</td>\n",
       "      <td>785.2000</td>\n",
       "      <td>788.3000</td>\n",
       "      <td>686161</td>\n",
       "    </tr>\n",
       "    <tr>\n",
       "      <th>2024-12-27</th>\n",
       "      <td>817.2500</td>\n",
       "      <td>818.7500</td>\n",
       "      <td>797.2500</td>\n",
       "      <td>799.5500</td>\n",
       "      <td>1061163</td>\n",
       "    </tr>\n",
       "    <tr>\n",
       "      <th>...</th>\n",
       "      <td>...</td>\n",
       "      <td>...</td>\n",
       "      <td>...</td>\n",
       "      <td>...</td>\n",
       "      <td>...</td>\n",
       "    </tr>\n",
       "    <tr>\n",
       "      <th>2024-08-14</th>\n",
       "      <td>800.7000</td>\n",
       "      <td>809.0000</td>\n",
       "      <td>800.4000</td>\n",
       "      <td>802.9500</td>\n",
       "      <td>287718</td>\n",
       "    </tr>\n",
       "    <tr>\n",
       "      <th>2024-08-13</th>\n",
       "      <td>813.1000</td>\n",
       "      <td>819.4000</td>\n",
       "      <td>795.1000</td>\n",
       "      <td>797.3000</td>\n",
       "      <td>641102</td>\n",
       "    </tr>\n",
       "    <tr>\n",
       "      <th>2024-08-12</th>\n",
       "      <td>819.2000</td>\n",
       "      <td>822.6000</td>\n",
       "      <td>810.8500</td>\n",
       "      <td>813.0000</td>\n",
       "      <td>1142861</td>\n",
       "    </tr>\n",
       "    <tr>\n",
       "      <th>2024-08-09</th>\n",
       "      <td>816.8000</td>\n",
       "      <td>829.9000</td>\n",
       "      <td>809.8500</td>\n",
       "      <td>824.2000</td>\n",
       "      <td>822817</td>\n",
       "    </tr>\n",
       "    <tr>\n",
       "      <th>2024-08-08</th>\n",
       "      <td>813.8500</td>\n",
       "      <td>817.9000</td>\n",
       "      <td>803.0000</td>\n",
       "      <td>807.6500</td>\n",
       "      <td>680135</td>\n",
       "    </tr>\n",
       "  </tbody>\n",
       "</table>\n",
       "<p>100 rows × 5 columns</p>\n",
       "</div>"
      ],
      "text/plain": [
       "             1. open   2. high    3. low  4. close 5. volume\n",
       "2025-01-02  795.0000  802.4000  786.3000  801.0500    711599\n",
       "2025-01-01  796.8500  798.5000  789.6000  793.3500    356031\n",
       "2024-12-31  788.7500  798.9500  787.0000  795.0500    283620\n",
       "2024-12-30  802.7000  808.0000  785.2000  788.3000    686161\n",
       "2024-12-27  817.2500  818.7500  797.2500  799.5500   1061163\n",
       "...              ...       ...       ...       ...       ...\n",
       "2024-08-14  800.7000  809.0000  800.4000  802.9500    287718\n",
       "2024-08-13  813.1000  819.4000  795.1000  797.3000    641102\n",
       "2024-08-12  819.2000  822.6000  810.8500  813.0000   1142861\n",
       "2024-08-09  816.8000  829.9000  809.8500  824.2000    822817\n",
       "2024-08-08  813.8500  817.9000  803.0000  807.6500    680135\n",
       "\n",
       "[100 rows x 5 columns]"
      ]
     },
     "execution_count": 14,
     "metadata": {},
     "output_type": "execute_result"
    }
   ],
   "source": [
    "import pandas as pd\n",
    "df = pd.DataFrame(daily).T\n",
    "df"
   ]
  },
  {
   "cell_type": "code",
   "execution_count": 15,
   "metadata": {},
   "outputs": [
    {
     "data": {
      "text/plain": [
       "1. open      object\n",
       "2. high      object\n",
       "3. low       object\n",
       "4. close     object\n",
       "5. volume    object\n",
       "dtype: object"
      ]
     },
     "execution_count": 15,
     "metadata": {},
     "output_type": "execute_result"
    }
   ],
   "source": [
    "df.dtypes"
   ]
  },
  {
   "cell_type": "code",
   "execution_count": 16,
   "metadata": {},
   "outputs": [],
   "source": [
    "df = df.astype(float).round(2)"
   ]
  },
  {
   "cell_type": "code",
   "execution_count": 17,
   "metadata": {},
   "outputs": [
    {
     "data": {
      "text/html": [
       "<div>\n",
       "<style scoped>\n",
       "    .dataframe tbody tr th:only-of-type {\n",
       "        vertical-align: middle;\n",
       "    }\n",
       "\n",
       "    .dataframe tbody tr th {\n",
       "        vertical-align: top;\n",
       "    }\n",
       "\n",
       "    .dataframe thead th {\n",
       "        text-align: right;\n",
       "    }\n",
       "</style>\n",
       "<table border=\"1\" class=\"dataframe\">\n",
       "  <thead>\n",
       "    <tr style=\"text-align: right;\">\n",
       "      <th></th>\n",
       "      <th>1. open</th>\n",
       "      <th>2. high</th>\n",
       "      <th>3. low</th>\n",
       "      <th>4. close</th>\n",
       "      <th>5. volume</th>\n",
       "    </tr>\n",
       "  </thead>\n",
       "  <tbody>\n",
       "    <tr>\n",
       "      <th>2025-01-02</th>\n",
       "      <td>795.00</td>\n",
       "      <td>802.40</td>\n",
       "      <td>786.30</td>\n",
       "      <td>801.05</td>\n",
       "      <td>711599.0</td>\n",
       "    </tr>\n",
       "    <tr>\n",
       "      <th>2025-01-01</th>\n",
       "      <td>796.85</td>\n",
       "      <td>798.50</td>\n",
       "      <td>789.60</td>\n",
       "      <td>793.35</td>\n",
       "      <td>356031.0</td>\n",
       "    </tr>\n",
       "    <tr>\n",
       "      <th>2024-12-31</th>\n",
       "      <td>788.75</td>\n",
       "      <td>798.95</td>\n",
       "      <td>787.00</td>\n",
       "      <td>795.05</td>\n",
       "      <td>283620.0</td>\n",
       "    </tr>\n",
       "    <tr>\n",
       "      <th>2024-12-30</th>\n",
       "      <td>802.70</td>\n",
       "      <td>808.00</td>\n",
       "      <td>785.20</td>\n",
       "      <td>788.30</td>\n",
       "      <td>686161.0</td>\n",
       "    </tr>\n",
       "    <tr>\n",
       "      <th>2024-12-27</th>\n",
       "      <td>817.25</td>\n",
       "      <td>818.75</td>\n",
       "      <td>797.25</td>\n",
       "      <td>799.55</td>\n",
       "      <td>1061163.0</td>\n",
       "    </tr>\n",
       "    <tr>\n",
       "      <th>...</th>\n",
       "      <td>...</td>\n",
       "      <td>...</td>\n",
       "      <td>...</td>\n",
       "      <td>...</td>\n",
       "      <td>...</td>\n",
       "    </tr>\n",
       "    <tr>\n",
       "      <th>2024-08-14</th>\n",
       "      <td>800.70</td>\n",
       "      <td>809.00</td>\n",
       "      <td>800.40</td>\n",
       "      <td>802.95</td>\n",
       "      <td>287718.0</td>\n",
       "    </tr>\n",
       "    <tr>\n",
       "      <th>2024-08-13</th>\n",
       "      <td>813.10</td>\n",
       "      <td>819.40</td>\n",
       "      <td>795.10</td>\n",
       "      <td>797.30</td>\n",
       "      <td>641102.0</td>\n",
       "    </tr>\n",
       "    <tr>\n",
       "      <th>2024-08-12</th>\n",
       "      <td>819.20</td>\n",
       "      <td>822.60</td>\n",
       "      <td>810.85</td>\n",
       "      <td>813.00</td>\n",
       "      <td>1142861.0</td>\n",
       "    </tr>\n",
       "    <tr>\n",
       "      <th>2024-08-09</th>\n",
       "      <td>816.80</td>\n",
       "      <td>829.90</td>\n",
       "      <td>809.85</td>\n",
       "      <td>824.20</td>\n",
       "      <td>822817.0</td>\n",
       "    </tr>\n",
       "    <tr>\n",
       "      <th>2024-08-08</th>\n",
       "      <td>813.85</td>\n",
       "      <td>817.90</td>\n",
       "      <td>803.00</td>\n",
       "      <td>807.65</td>\n",
       "      <td>680135.0</td>\n",
       "    </tr>\n",
       "  </tbody>\n",
       "</table>\n",
       "<p>100 rows × 5 columns</p>\n",
       "</div>"
      ],
      "text/plain": [
       "            1. open  2. high  3. low  4. close  5. volume\n",
       "2025-01-02   795.00   802.40  786.30    801.05   711599.0\n",
       "2025-01-01   796.85   798.50  789.60    793.35   356031.0\n",
       "2024-12-31   788.75   798.95  787.00    795.05   283620.0\n",
       "2024-12-30   802.70   808.00  785.20    788.30   686161.0\n",
       "2024-12-27   817.25   818.75  797.25    799.55  1061163.0\n",
       "...             ...      ...     ...       ...        ...\n",
       "2024-08-14   800.70   809.00  800.40    802.95   287718.0\n",
       "2024-08-13   813.10   819.40  795.10    797.30   641102.0\n",
       "2024-08-12   819.20   822.60  810.85    813.00  1142861.0\n",
       "2024-08-09   816.80   829.90  809.85    824.20   822817.0\n",
       "2024-08-08   813.85   817.90  803.00    807.65   680135.0\n",
       "\n",
       "[100 rows x 5 columns]"
      ]
     },
     "execution_count": 17,
     "metadata": {},
     "output_type": "execute_result"
    }
   ],
   "source": [
    "df"
   ]
  },
  {
   "cell_type": "code",
   "execution_count": 18,
   "metadata": {},
   "outputs": [
    {
     "data": {
      "text/plain": [
       "1. open      float64\n",
       "2. high      float64\n",
       "3. low       float64\n",
       "4. close     float64\n",
       "5. volume    float64\n",
       "dtype: object"
      ]
     },
     "execution_count": 18,
     "metadata": {},
     "output_type": "execute_result"
    }
   ],
   "source": [
    "df.dtypes"
   ]
  },
  {
   "cell_type": "code",
   "execution_count": 20,
   "metadata": {},
   "outputs": [
    {
     "data": {
      "text/plain": [
       "DatetimeIndex(['2025-01-02', '2025-01-01', '2024-12-31', '2024-12-30',\n",
       "               '2024-12-27', '2024-12-26', '2024-12-24', '2024-12-23',\n",
       "               '2024-12-20', '2024-12-19', '2024-12-18', '2024-12-17',\n",
       "               '2024-12-16', '2024-12-13', '2024-12-12', '2024-12-11',\n",
       "               '2024-12-10', '2024-12-09', '2024-12-06', '2024-12-05',\n",
       "               '2024-12-04', '2024-12-03', '2024-12-02', '2024-11-29',\n",
       "               '2024-11-28', '2024-11-27', '2024-11-26', '2024-11-25',\n",
       "               '2024-11-22', '2024-11-21', '2024-11-19', '2024-11-18',\n",
       "               '2024-11-14', '2024-11-13', '2024-11-12', '2024-11-11',\n",
       "               '2024-11-08', '2024-11-07', '2024-11-06', '2024-11-05',\n",
       "               '2024-11-04', '2024-10-31', '2024-10-30', '2024-10-29',\n",
       "               '2024-10-28', '2024-10-25', '2024-10-24', '2024-10-23',\n",
       "               '2024-10-22', '2024-10-21', '2024-10-18', '2024-10-17',\n",
       "               '2024-10-16', '2024-10-15', '2024-10-14', '2024-10-11',\n",
       "               '2024-10-10', '2024-10-09', '2024-10-08', '2024-10-07',\n",
       "               '2024-10-04', '2024-10-03', '2024-10-01', '2024-09-30',\n",
       "               '2024-09-27', '2024-09-26', '2024-09-25', '2024-09-24',\n",
       "               '2024-09-23', '2024-09-20', '2024-09-19', '2024-09-18',\n",
       "               '2024-09-17', '2024-09-16', '2024-09-13', '2024-09-12',\n",
       "               '2024-09-11', '2024-09-10', '2024-09-09', '2024-09-06',\n",
       "               '2024-09-05', '2024-09-04', '2024-09-03', '2024-09-02',\n",
       "               '2024-08-30', '2024-08-29', '2024-08-28', '2024-08-27',\n",
       "               '2024-08-26', '2024-08-23', '2024-08-22', '2024-08-21',\n",
       "               '2024-08-20', '2024-08-19', '2024-08-16', '2024-08-14',\n",
       "               '2024-08-13', '2024-08-12', '2024-08-09', '2024-08-08'],\n",
       "              dtype='datetime64[ns]', freq=None)"
      ]
     },
     "execution_count": 20,
     "metadata": {},
     "output_type": "execute_result"
    }
   ],
   "source": [
    "# Convert index to datatime\n",
    "df.index = pd.to_datetime(df.index)\n",
    "df.index"
   ]
  },
  {
   "cell_type": "code",
   "execution_count": 21,
   "metadata": {},
   "outputs": [
    {
     "data": {
      "text/html": [
       "<div>\n",
       "<style scoped>\n",
       "    .dataframe tbody tr th:only-of-type {\n",
       "        vertical-align: middle;\n",
       "    }\n",
       "\n",
       "    .dataframe tbody tr th {\n",
       "        vertical-align: top;\n",
       "    }\n",
       "\n",
       "    .dataframe thead th {\n",
       "        text-align: right;\n",
       "    }\n",
       "</style>\n",
       "<table border=\"1\" class=\"dataframe\">\n",
       "  <thead>\n",
       "    <tr style=\"text-align: right;\">\n",
       "      <th></th>\n",
       "      <th>1. open</th>\n",
       "      <th>2. high</th>\n",
       "      <th>3. low</th>\n",
       "      <th>4. close</th>\n",
       "      <th>5. volume</th>\n",
       "    </tr>\n",
       "  </thead>\n",
       "  <tbody>\n",
       "    <tr>\n",
       "      <th>2025-01-02</th>\n",
       "      <td>795.00</td>\n",
       "      <td>802.40</td>\n",
       "      <td>786.30</td>\n",
       "      <td>801.05</td>\n",
       "      <td>711599.0</td>\n",
       "    </tr>\n",
       "    <tr>\n",
       "      <th>2025-01-01</th>\n",
       "      <td>796.85</td>\n",
       "      <td>798.50</td>\n",
       "      <td>789.60</td>\n",
       "      <td>793.35</td>\n",
       "      <td>356031.0</td>\n",
       "    </tr>\n",
       "    <tr>\n",
       "      <th>2024-12-31</th>\n",
       "      <td>788.75</td>\n",
       "      <td>798.95</td>\n",
       "      <td>787.00</td>\n",
       "      <td>795.05</td>\n",
       "      <td>283620.0</td>\n",
       "    </tr>\n",
       "    <tr>\n",
       "      <th>2024-12-30</th>\n",
       "      <td>802.70</td>\n",
       "      <td>808.00</td>\n",
       "      <td>785.20</td>\n",
       "      <td>788.30</td>\n",
       "      <td>686161.0</td>\n",
       "    </tr>\n",
       "    <tr>\n",
       "      <th>2024-12-27</th>\n",
       "      <td>817.25</td>\n",
       "      <td>818.75</td>\n",
       "      <td>797.25</td>\n",
       "      <td>799.55</td>\n",
       "      <td>1061163.0</td>\n",
       "    </tr>\n",
       "    <tr>\n",
       "      <th>...</th>\n",
       "      <td>...</td>\n",
       "      <td>...</td>\n",
       "      <td>...</td>\n",
       "      <td>...</td>\n",
       "      <td>...</td>\n",
       "    </tr>\n",
       "    <tr>\n",
       "      <th>2024-08-14</th>\n",
       "      <td>800.70</td>\n",
       "      <td>809.00</td>\n",
       "      <td>800.40</td>\n",
       "      <td>802.95</td>\n",
       "      <td>287718.0</td>\n",
       "    </tr>\n",
       "    <tr>\n",
       "      <th>2024-08-13</th>\n",
       "      <td>813.10</td>\n",
       "      <td>819.40</td>\n",
       "      <td>795.10</td>\n",
       "      <td>797.30</td>\n",
       "      <td>641102.0</td>\n",
       "    </tr>\n",
       "    <tr>\n",
       "      <th>2024-08-12</th>\n",
       "      <td>819.20</td>\n",
       "      <td>822.60</td>\n",
       "      <td>810.85</td>\n",
       "      <td>813.00</td>\n",
       "      <td>1142861.0</td>\n",
       "    </tr>\n",
       "    <tr>\n",
       "      <th>2024-08-09</th>\n",
       "      <td>816.80</td>\n",
       "      <td>829.90</td>\n",
       "      <td>809.85</td>\n",
       "      <td>824.20</td>\n",
       "      <td>822817.0</td>\n",
       "    </tr>\n",
       "    <tr>\n",
       "      <th>2024-08-08</th>\n",
       "      <td>813.85</td>\n",
       "      <td>817.90</td>\n",
       "      <td>803.00</td>\n",
       "      <td>807.65</td>\n",
       "      <td>680135.0</td>\n",
       "    </tr>\n",
       "  </tbody>\n",
       "</table>\n",
       "<p>100 rows × 5 columns</p>\n",
       "</div>"
      ],
      "text/plain": [
       "            1. open  2. high  3. low  4. close  5. volume\n",
       "2025-01-02   795.00   802.40  786.30    801.05   711599.0\n",
       "2025-01-01   796.85   798.50  789.60    793.35   356031.0\n",
       "2024-12-31   788.75   798.95  787.00    795.05   283620.0\n",
       "2024-12-30   802.70   808.00  785.20    788.30   686161.0\n",
       "2024-12-27   817.25   818.75  797.25    799.55  1061163.0\n",
       "...             ...      ...     ...       ...        ...\n",
       "2024-08-14   800.70   809.00  800.40    802.95   287718.0\n",
       "2024-08-13   813.10   819.40  795.10    797.30   641102.0\n",
       "2024-08-12   819.20   822.60  810.85    813.00  1142861.0\n",
       "2024-08-09   816.80   829.90  809.85    824.20   822817.0\n",
       "2024-08-08   813.85   817.90  803.00    807.65   680135.0\n",
       "\n",
       "[100 rows x 5 columns]"
      ]
     },
     "execution_count": 21,
     "metadata": {},
     "output_type": "execute_result"
    }
   ],
   "source": [
    "df"
   ]
  },
  {
   "cell_type": "code",
   "execution_count": 22,
   "metadata": {},
   "outputs": [],
   "source": [
    "df.index.name = \"Date\""
   ]
  },
  {
   "cell_type": "code",
   "execution_count": 23,
   "metadata": {},
   "outputs": [
    {
     "data": {
      "text/html": [
       "<div>\n",
       "<style scoped>\n",
       "    .dataframe tbody tr th:only-of-type {\n",
       "        vertical-align: middle;\n",
       "    }\n",
       "\n",
       "    .dataframe tbody tr th {\n",
       "        vertical-align: top;\n",
       "    }\n",
       "\n",
       "    .dataframe thead th {\n",
       "        text-align: right;\n",
       "    }\n",
       "</style>\n",
       "<table border=\"1\" class=\"dataframe\">\n",
       "  <thead>\n",
       "    <tr style=\"text-align: right;\">\n",
       "      <th></th>\n",
       "      <th>1. open</th>\n",
       "      <th>2. high</th>\n",
       "      <th>3. low</th>\n",
       "      <th>4. close</th>\n",
       "      <th>5. volume</th>\n",
       "    </tr>\n",
       "    <tr>\n",
       "      <th>Date</th>\n",
       "      <th></th>\n",
       "      <th></th>\n",
       "      <th></th>\n",
       "      <th></th>\n",
       "      <th></th>\n",
       "    </tr>\n",
       "  </thead>\n",
       "  <tbody>\n",
       "    <tr>\n",
       "      <th>2025-01-02</th>\n",
       "      <td>795.00</td>\n",
       "      <td>802.40</td>\n",
       "      <td>786.30</td>\n",
       "      <td>801.05</td>\n",
       "      <td>711599.0</td>\n",
       "    </tr>\n",
       "    <tr>\n",
       "      <th>2025-01-01</th>\n",
       "      <td>796.85</td>\n",
       "      <td>798.50</td>\n",
       "      <td>789.60</td>\n",
       "      <td>793.35</td>\n",
       "      <td>356031.0</td>\n",
       "    </tr>\n",
       "    <tr>\n",
       "      <th>2024-12-31</th>\n",
       "      <td>788.75</td>\n",
       "      <td>798.95</td>\n",
       "      <td>787.00</td>\n",
       "      <td>795.05</td>\n",
       "      <td>283620.0</td>\n",
       "    </tr>\n",
       "    <tr>\n",
       "      <th>2024-12-30</th>\n",
       "      <td>802.70</td>\n",
       "      <td>808.00</td>\n",
       "      <td>785.20</td>\n",
       "      <td>788.30</td>\n",
       "      <td>686161.0</td>\n",
       "    </tr>\n",
       "    <tr>\n",
       "      <th>2024-12-27</th>\n",
       "      <td>817.25</td>\n",
       "      <td>818.75</td>\n",
       "      <td>797.25</td>\n",
       "      <td>799.55</td>\n",
       "      <td>1061163.0</td>\n",
       "    </tr>\n",
       "    <tr>\n",
       "      <th>...</th>\n",
       "      <td>...</td>\n",
       "      <td>...</td>\n",
       "      <td>...</td>\n",
       "      <td>...</td>\n",
       "      <td>...</td>\n",
       "    </tr>\n",
       "    <tr>\n",
       "      <th>2024-08-14</th>\n",
       "      <td>800.70</td>\n",
       "      <td>809.00</td>\n",
       "      <td>800.40</td>\n",
       "      <td>802.95</td>\n",
       "      <td>287718.0</td>\n",
       "    </tr>\n",
       "    <tr>\n",
       "      <th>2024-08-13</th>\n",
       "      <td>813.10</td>\n",
       "      <td>819.40</td>\n",
       "      <td>795.10</td>\n",
       "      <td>797.30</td>\n",
       "      <td>641102.0</td>\n",
       "    </tr>\n",
       "    <tr>\n",
       "      <th>2024-08-12</th>\n",
       "      <td>819.20</td>\n",
       "      <td>822.60</td>\n",
       "      <td>810.85</td>\n",
       "      <td>813.00</td>\n",
       "      <td>1142861.0</td>\n",
       "    </tr>\n",
       "    <tr>\n",
       "      <th>2024-08-09</th>\n",
       "      <td>816.80</td>\n",
       "      <td>829.90</td>\n",
       "      <td>809.85</td>\n",
       "      <td>824.20</td>\n",
       "      <td>822817.0</td>\n",
       "    </tr>\n",
       "    <tr>\n",
       "      <th>2024-08-08</th>\n",
       "      <td>813.85</td>\n",
       "      <td>817.90</td>\n",
       "      <td>803.00</td>\n",
       "      <td>807.65</td>\n",
       "      <td>680135.0</td>\n",
       "    </tr>\n",
       "  </tbody>\n",
       "</table>\n",
       "<p>100 rows × 5 columns</p>\n",
       "</div>"
      ],
      "text/plain": [
       "            1. open  2. high  3. low  4. close  5. volume\n",
       "Date                                                     \n",
       "2025-01-02   795.00   802.40  786.30    801.05   711599.0\n",
       "2025-01-01   796.85   798.50  789.60    793.35   356031.0\n",
       "2024-12-31   788.75   798.95  787.00    795.05   283620.0\n",
       "2024-12-30   802.70   808.00  785.20    788.30   686161.0\n",
       "2024-12-27   817.25   818.75  797.25    799.55  1061163.0\n",
       "...             ...      ...     ...       ...        ...\n",
       "2024-08-14   800.70   809.00  800.40    802.95   287718.0\n",
       "2024-08-13   813.10   819.40  795.10    797.30   641102.0\n",
       "2024-08-12   819.20   822.60  810.85    813.00  1142861.0\n",
       "2024-08-09   816.80   829.90  809.85    824.20   822817.0\n",
       "2024-08-08   813.85   817.90  803.00    807.65   680135.0\n",
       "\n",
       "[100 rows x 5 columns]"
      ]
     },
     "execution_count": 23,
     "metadata": {},
     "output_type": "execute_result"
    }
   ],
   "source": [
    "df"
   ]
  },
  {
   "cell_type": "code",
   "execution_count": 24,
   "metadata": {},
   "outputs": [],
   "source": [
    "df.to_csv(\"SBIPrice.csv\")"
   ]
  },
  {
   "cell_type": "markdown",
   "metadata": {},
   "source": [
    "### Visulalize the data with Candlestick chart"
   ]
  },
  {
   "attachments": {
    "image.png": {
     "image/png": "[encoded data removed]"
    }
   },
   "cell_type": "markdown",
   "metadata": {},
   "source": [
    "![image.png](attachment:image.png)"
   ]
  },
  {
   "cell_type": "code",
   "execution_count": 27,
   "metadata": {},
   "outputs": [
    {
     "data": {
      "text/plain": [
       "Index(['1. open', '2. high', '3. low', '4. close', '5. volume'], dtype='object')"
      ]
     },
     "execution_count": 27,
     "metadata": {},
     "output_type": "execute_result"
    }
   ],
   "source": [
    "df.columns"
   ]
  },
  {
   "cell_type": "code",
   "execution_count": 25,
   "metadata": {},
   "outputs": [],
   "source": [
    "import plotly.graph_objects as go"
   ]
  },
  {
   "cell_type": "code",
   "execution_count": 31,
   "metadata": {},
   "outputs": [
    {
     "data": {
      "application/vnd.plotly.v1+json": {
       "config": {
        "plotlyServerURL": "https://plot.ly"
       },
       "data": [
        {
         "close": [
          801.05,
          793.35,
          795.05,
          788.3,
          799.55,
          811.65,
          811.85,
          820.95,
          812.5,
          832.8,
          839.05,
          850.2,
          860.7,
          861.7,
          853.75,
          861.55,
          867.6,
          857.85,
          864,
          864.85,
          859.45,
          853.95,
          836.2,
          839,
          838.75,
          834.2,
          839.35,
          844.75,
          816.05,
          780.85,
          802,
          813.7,
          804.05,
          808.35,
          826.4,
          847.8,
          843.25,
          859.25,
          854.75,
          849.2,
          829.85,
          820.5,
          822.4,
          832.65,
          792.05,
          780.6,
          794.7,
          785.95,
          790.45,
          814.15,
          819.95,
          810.9,
          805.85,
          804.6,
          805.25,
          800,
          796.95,
          797,
          782.05,
          769.8,
          796.6,
          794.35,
          797,
          787.6,
          802.65,
          801.9,
          792.95,
          798.35,
          801.8,
          781.9,
          790.35,
          792.35,
          783.05,
          785.45,
          790.55,
          788.05,
          768.3,
          782.6,
          784.3,
          782.6,
          818.6,
          816.5,
          824.75,
          822.1,
          815.65,
          814.5,
          809.3,
          815.15,
          815.35,
          815.25,
          820.15,
          815.8,
          820,
          813.65,
          812.45,
          802.95,
          797.3,
          813,
          824.2,
          807.65
         ],
         "high": [
          802.4,
          798.5,
          798.95,
          808,
          818.75,
          822.95,
          825.55,
          823.9,
          836.4,
          837.9,
          850.8,
          862.95,
          866.2,
          863,
          864.2,
          869.75,
          868.85,
          866.8,
          875.5,
          871,
          863.8,
          856.6,
          842,
          843.85,
          845.7,
          842.15,
          846.7,
          849.3,
          819.75,
          800,
          820.1,
          816.65,
          817.85,
          831.65,
          853,
          853.65,
          863.65,
          862.45,
          861,
          851.2,
          837.5,
          828,
          832.9,
          834.5,
          803.95,
          800,
          796.8,
          792.5,
          816.35,
          826.35,
          822.4,
          819.25,
          808.9,
          807.6,
          809,
          802.5,
          804.35,
          805,
          784.5,
          803.9,
          809.65,
          803.95,
          799.75,
          802.5,
          807.85,
          803,
          798.25,
          804.1,
          804.9,
          794.4,
          801.25,
          794.5,
          787.5,
          795.3,
          795,
          789.7,
          788,
          788.95,
          788.05,
          813.9,
          821.9,
          818.65,
          825.9,
          825.3,
          820.35,
          815.95,
          817.1,
          819.3,
          823.35,
          821.7,
          823.7,
          821,
          822.9,
          825,
          815.1,
          809,
          819.4,
          822.6,
          829.9,
          817.9
         ],
         "low": [
          786.3,
          789.6,
          787,
          785.2,
          797.25,
          808,
          809.2,
          812.4,
          810,
          820.1,
          836.7,
          847.15,
          857.8,
          835,
          851.25,
          860.8,
          858.5,
          856.75,
          856.85,
          855.65,
          850.25,
          836.45,
          832.8,
          831.5,
          830.35,
          832,
          835.2,
          825.95,
          784.3,
          761.65,
          800.1,
          799.2,
          801.1,
          804.45,
          824.1,
          841.45,
          834.3,
          846.7,
          846.2,
          826.1,
          807.05,
          813.45,
          821.05,
          790.5,
          783.2,
          772.05,
          784.5,
          779.6,
          787.6,
          809.1,
          803.1,
          806.05,
          801.05,
          801.5,
          800.15,
          793,
          795.05,
          782.55,
          771.1,
          765.55,
          785.2,
          784.35,
          788.25,
          786.15,
          798.4,
          791.55,
          788.65,
          796.65,
          785,
          779.5,
          784.1,
          781.3,
          780.65,
          784.1,
          784.85,
          772.9,
          765.65,
          777.65,
          771.3,
          777.05,
          814.3,
          813,
          816.75,
          813,
          814.3,
          807.3,
          806.9,
          811.05,
          814.2,
          814.2,
          817.4,
          811.4,
          813.2,
          812.35,
          803.2,
          800.4,
          795.1,
          810.85,
          809.85,
          803
         ],
         "open": [
          795,
          796.85,
          788.75,
          802.7,
          817.25,
          813,
          825,
          818.35,
          833.8,
          822.05,
          850.2,
          859.75,
          859,
          853.7,
          862.5,
          865.75,
          862,
          862.95,
          866.95,
          861.65,
          854.4,
          836.45,
          836.2,
          842,
          834.95,
          839.3,
          844.75,
          826.25,
          785.65,
          800,
          817.55,
          810.05,
          809.95,
          822.5,
          851,
          847,
          860,
          860.05,
          850,
          829,
          822.65,
          821.95,
          830,
          796.5,
          783.2,
          798.45,
          786.05,
          790,
          814.15,
          822.05,
          811,
          806.05,
          801.05,
          805,
          800.15,
          797,
          799.9,
          787.95,
          771.1,
          797.05,
          790.3,
          787.4,
          788.95,
          801.15,
          802,
          795.15,
          798.25,
          800,
          785.05,
          794.05,
          794.15,
          783.55,
          786,
          793.45,
          790.85,
          775,
          781.65,
          788.65,
          785,
          813.9,
          818,
          813,
          821.2,
          816.45,
          818.45,
          809.35,
          813.8,
          816.85,
          819.35,
          821.05,
          819.85,
          820,
          818.75,
          814.05,
          803.5,
          800.7,
          813.1,
          819.2,
          816.8,
          813.85
         ],
         "type": "candlestick",
         "x": [
          "2025-01-02T00:00:00",
          "2025-01-01T00:00:00",
          "2024-12-31T00:00:00",
          "2024-12-30T00:00:00",
          "2024-12-27T00:00:00",
          "2024-12-26T00:00:00",
          "2024-12-24T00:00:00",
          "2024-12-23T00:00:00",
          "2024-12-20T00:00:00",
          "2024-12-19T00:00:00",
          "2024-12-18T00:00:00",
          "2024-12-17T00:00:00",
          "2024-12-16T00:00:00",
          "2024-12-13T00:00:00",
          "2024-12-12T00:00:00",
          "2024-12-11T00:00:00",
          "2024-12-10T00:00:00",
          "2024-12-09T00:00:00",
          "2024-12-06T00:00:00",
          "2024-12-05T00:00:00",
          "2024-12-04T00:00:00",
          "2024-12-03T00:00:00",
          "2024-12-02T00:00:00",
          "2024-11-29T00:00:00",
          "2024-11-28T00:00:00",
          "2024-11-27T00:00:00",
          "2024-11-26T00:00:00",
          "2024-11-25T00:00:00",
          "2024-11-22T00:00:00",
          "2024-11-21T00:00:00",
          "2024-11-19T00:00:00",
          "2024-11-18T00:00:00",
          "2024-11-14T00:00:00",
          "2024-11-13T00:00:00",
          "2024-11-12T00:00:00",
          "2024-11-11T00:00:00",
          "2024-11-08T00:00:00",
          "2024-11-07T00:00:00",
          "2024-11-06T00:00:00",
          "2024-11-05T00:00:00",
          "2024-11-04T00:00:00",
          "2024-10-31T00:00:00",
          "2024-10-30T00:00:00",
          "2024-10-29T00:00:00",
          "2024-10-28T00:00:00",
          "2024-10-25T00:00:00",
          "2024-10-24T00:00:00",
          "2024-10-23T00:00:00",
          "2024-10-22T00:00:00",
          "2024-10-21T00:00:00",
          "2024-10-18T00:00:00",
          "2024-10-17T00:00:00",
          "2024-10-16T00:00:00",
          "2024-10-15T00:00:00",
          "2024-10-14T00:00:00",
          "2024-10-11T00:00:00",
          "2024-10-10T00:00:00",
          "2024-10-09T00:00:00",
          "2024-10-08T00:00:00",
          "2024-10-07T00:00:00",
          "2024-10-04T00:00:00",
          "2024-10-03T00:00:00",
          "2024-10-01T00:00:00",
          "2024-09-30T00:00:00",
          "2024-09-27T00:00:00",
          "2024-09-26T00:00:00",
          "2024-09-25T00:00:00",
          "2024-09-24T00:00:00",
          "2024-09-23T00:00:00",
          "2024-09-20T00:00:00",
          "2024-09-19T00:00:00",
          "2024-09-18T00:00:00",
          "2024-09-17T00:00:00",
          "2024-09-16T00:00:00",
          "2024-09-13T00:00:00",
          "2024-09-12T00:00:00",
          "2024-09-11T00:00:00",
          "2024-09-10T00:00:00",
          "2024-09-09T00:00:00",
          "2024-09-06T00:00:00",
          "2024-09-05T00:00:00",
          "2024-09-04T00:00:00",
          "2024-09-03T00:00:00",
          "2024-09-02T00:00:00",
          "2024-08-30T00:00:00",
          "2024-08-29T00:00:00",
          "2024-08-28T00:00:00",
          "2024-08-27T00:00:00",
          "2024-08-26T00:00:00",
          "2024-08-23T00:00:00",
          "2024-08-22T00:00:00",
          "2024-08-21T00:00:00",
          "2024-08-20T00:00:00",
          "2024-08-19T00:00:00",
          "2024-08-16T00:00:00",
          "2024-08-14T00:00:00",
          "2024-08-13T00:00:00",
          "2024-08-12T00:00:00",
          "2024-08-09T00:00:00",
          "2024-08-08T00:00:00"
         ]
        }
       ],
       "layout": {
        "height": 800,
        "template": {
         "data": {
          "bar": [
           {
            "error_x": {
             "color": "#2a3f5f"
            },
            "error_y": {
             "color": "#2a3f5f"
            },
            "marker": {
             "line": {
              "color": "#E5ECF6",
              "width": 0.5
             },
             "pattern": {
              "fillmode": "overlay",
              "size": 10,
              "solidity": 0.2
             }
            },
            "type": "bar"
           }
          ],
          "barpolar": [
           {
            "marker": {
             "line": {
              "color": "#E5ECF6",
              "width": 0.5
             },
             "pattern": {
              "fillmode": "overlay",
              "size": 10,
              "solidity": 0.2
             }
            },
            "type": "barpolar"
           }
          ],
          "carpet": [
           {
            "aaxis": {
             "endlinecolor": "#2a3f5f",
             "gridcolor": "white",
             "linecolor": "white",
             "minorgridcolor": "white",
             "startlinecolor": "#2a3f5f"
            },
            "baxis": {
             "endlinecolor": "#2a3f5f",
             "gridcolor": "white",
             "linecolor": "white",
             "minorgridcolor": "white",
             "startlinecolor": "#2a3f5f"
            },
            "type": "carpet"
           }
          ],
          "choropleth": [
           {
            "colorbar": {
             "outlinewidth": 0,
             "ticks": ""
            },
            "type": "choropleth"
           }
          ],
          "contour": [
           {
            "colorbar": {
             "outlinewidth": 0,
             "ticks": ""
            },
            "colorscale": [
             [
              0,
              "#0d0887"
             ],
             [
              0.1111111111111111,
              "#46039f"
             ],
             [
              0.2222222222222222,
              "#7201a8"
             ],
             [
              0.3333333333333333,
              "#9c179e"
             ],
             [
              0.4444444444444444,
              "#bd3786"
             ],
             [
              0.5555555555555556,
              "#d8576b"
             ],
             [
              0.6666666666666666,
              "#ed7953"
             ],
             [
              0.7777777777777778,
              "#fb9f3a"
             ],
             [
              0.8888888888888888,
              "#fdca26"
             ],
             [
              1,
              "#f0f921"
             ]
            ],
            "type": "contour"
           }
          ],
          "contourcarpet": [
           {
            "colorbar": {
             "outlinewidth": 0,
             "ticks": ""
            },
            "type": "contourcarpet"
           }
          ],
          "heatmap": [
           {
            "colorbar": {
             "outlinewidth": 0,
             "ticks": ""
            },
            "colorscale": [
             [
              0,
              "#0d0887"
             ],
             [
              0.1111111111111111,
              "#46039f"
             ],
             [
              0.2222222222222222,
              "#7201a8"
             ],
             [
              0.3333333333333333,
              "#9c179e"
             ],
             [
              0.4444444444444444,
              "#bd3786"
             ],
             [
              0.5555555555555556,
              "#d8576b"
             ],
             [
              0.6666666666666666,
              "#ed7953"
             ],
             [
              0.7777777777777778,
              "#fb9f3a"
             ],
             [
              0.8888888888888888,
              "#fdca26"
             ],
             [
              1,
              "#f0f921"
             ]
            ],
            "type": "heatmap"
           }
          ],
          "heatmapgl": [
           {
            "colorbar": {
             "outlinewidth": 0,
             "ticks": ""
            },
            "colorscale": [
             [
              0,
              "#0d0887"
             ],
             [
              0.1111111111111111,
              "#46039f"
             ],
             [
              0.2222222222222222,
              "#7201a8"
             ],
             [
              0.3333333333333333,
              "#9c179e"
             ],
             [
              0.4444444444444444,
              "#bd3786"
             ],
             [
              0.5555555555555556,
              "#d8576b"
             ],
             [
              0.6666666666666666,
              "#ed7953"
             ],
             [
              0.7777777777777778,
              "#fb9f3a"
             ],
             [
              0.8888888888888888,
              "#fdca26"
             ],
             [
              1,
              "#f0f921"
             ]
            ],
            "type": "heatmapgl"
           }
          ],
          "histogram": [
           {
            "marker": {
             "pattern": {
              "fillmode": "overlay",
              "size": 10,
              "solidity": 0.2
             }
            },
            "type": "histogram"
           }
          ],
          "histogram2d": [
           {
            "colorbar": {
             "outlinewidth": 0,
             "ticks": ""
            },
            "colorscale": [
             [
              0,
              "#0d0887"
             ],
             [
              0.1111111111111111,
              "#46039f"
             ],
             [
              0.2222222222222222,
              "#7201a8"
             ],
             [
              0.3333333333333333,
              "#9c179e"
             ],
             [
              0.4444444444444444,
              "#bd3786"
             ],
             [
              0.5555555555555556,
              "#d8576b"
             ],
             [
              0.6666666666666666,
              "#ed7953"
             ],
             [
              0.7777777777777778,
              "#fb9f3a"
             ],
             [
              0.8888888888888888,
              "#fdca26"
             ],
             [
              1,
              "#f0f921"
             ]
            ],
            "type": "histogram2d"
           }
          ],
          "histogram2dcontour": [
           {
            "colorbar": {
             "outlinewidth": 0,
             "ticks": ""
            },
            "colorscale": [
             [
              0,
              "#0d0887"
             ],
             [
              0.1111111111111111,
              "#46039f"
             ],
             [
              0.2222222222222222,
              "#7201a8"
             ],
             [
              0.3333333333333333,
              "#9c179e"
             ],
             [
              0.4444444444444444,
              "#bd3786"
             ],
             [
              0.5555555555555556,
              "#d8576b"
             ],
             [
              0.6666666666666666,
              "#ed7953"
             ],
             [
              0.7777777777777778,
              "#fb9f3a"
             ],
             [
              0.8888888888888888,
              "#fdca26"
             ],
             [
              1,
              "#f0f921"
             ]
            ],
            "type": "histogram2dcontour"
           }
          ],
          "mesh3d": [
           {
            "colorbar": {
             "outlinewidth": 0,
             "ticks": ""
            },
            "type": "mesh3d"
           }
          ],
          "parcoords": [
           {
            "line": {
             "colorbar": {
              "outlinewidth": 0,
              "ticks": ""
             }
            },
            "type": "parcoords"
           }
          ],
          "pie": [
           {
            "automargin": true,
            "type": "pie"
           }
          ],
          "scatter": [
           {
            "fillpattern": {
             "fillmode": "overlay",
             "size": 10,
             "solidity": 0.2
            },
            "type": "scatter"
           }
          ],
          "scatter3d": [
           {
            "line": {
             "colorbar": {
              "outlinewidth": 0,
              "ticks": ""
             }
            },
            "marker": {
             "colorbar": {
              "outlinewidth": 0,
              "ticks": ""
             }
            },
            "type": "scatter3d"
           }
          ],
          "scattercarpet": [
           {
            "marker": {
             "colorbar": {
              "outlinewidth": 0,
              "ticks": ""
             }
            },
            "type": "scattercarpet"
           }
          ],
          "scattergeo": [
           {
            "marker": {
             "colorbar": {
              "outlinewidth": 0,
              "ticks": ""
             }
            },
            "type": "scattergeo"
           }
          ],
          "scattergl": [
           {
            "marker": {
             "colorbar": {
              "outlinewidth": 0,
              "ticks": ""
             }
            },
            "type": "scattergl"
           }
          ],
          "scattermapbox": [
           {
            "marker": {
             "colorbar": {
              "outlinewidth": 0,
              "ticks": ""
             }
            },
            "type": "scattermapbox"
           }
          ],
          "scatterpolar": [
           {
            "marker": {
             "colorbar": {
              "outlinewidth": 0,
              "ticks": ""
             }
            },
            "type": "scatterpolar"
           }
          ],
          "scatterpolargl": [
           {
            "marker": {
             "colorbar": {
              "outlinewidth": 0,
              "ticks": ""
             }
            },
            "type": "scatterpolargl"
           }
          ],
          "scatterternary": [
           {
            "marker": {
             "colorbar": {
              "outlinewidth": 0,
              "ticks": ""
             }
            },
            "type": "scatterternary"
           }
          ],
          "surface": [
           {
            "colorbar": {
             "outlinewidth": 0,
             "ticks": ""
            },
            "colorscale": [
             [
              0,
              "#0d0887"
             ],
             [
              0.1111111111111111,
              "#46039f"
             ],
             [
              0.2222222222222222,
              "#7201a8"
             ],
             [
              0.3333333333333333,
              "#9c179e"
             ],
             [
              0.4444444444444444,
              "#bd3786"
             ],
             [
              0.5555555555555556,
              "#d8576b"
             ],
             [
              0.6666666666666666,
              "#ed7953"
             ],
             [
              0.7777777777777778,
              "#fb9f3a"
             ],
             [
              0.8888888888888888,
              "#fdca26"
             ],
             [
              1,
              "#f0f921"
             ]
            ],
            "type": "surface"
           }
          ],
          "table": [
           {
            "cells": {
             "fill": {
              "color": "#EBF0F8"
             },
             "line": {
              "color": "white"
             }
            },
            "header": {
             "fill": {
              "color": "#C8D4E3"
             },
             "line": {
              "color": "white"
             }
            },
            "type": "table"
           }
          ]
         },
         "layout": {
          "annotationdefaults": {
           "arrowcolor": "#2a3f5f",
           "arrowhead": 0,
           "arrowwidth": 1
          },
          "autotypenumbers": "strict",
          "coloraxis": {
           "colorbar": {
            "outlinewidth": 0,
            "ticks": ""
           }
          },
          "colorscale": {
           "diverging": [
            [
             0,
             "#8e0152"
            ],
            [
             0.1,
             "#c51b7d"
            ],
            [
             0.2,
             "#de77ae"
            ],
            [
             0.3,
             "#f1b6da"
            ],
            [
             0.4,
             "#fde0ef"
            ],
            [
             0.5,
             "#f7f7f7"
            ],
            [
             0.6,
             "#e6f5d0"
            ],
            [
             0.7,
             "#b8e186"
            ],
            [
             0.8,
             "#7fbc41"
            ],
            [
             0.9,
             "#4d9221"
            ],
            [
             1,
             "#276419"
            ]
           ],
           "sequential": [
            [
             0,
             "#0d0887"
            ],
            [
             0.1111111111111111,
             "#46039f"
            ],
            [
             0.2222222222222222,
             "#7201a8"
            ],
            [
             0.3333333333333333,
             "#9c179e"
            ],
            [
             0.4444444444444444,
             "#bd3786"
            ],
            [
             0.5555555555555556,
             "#d8576b"
            ],
            [
             0.6666666666666666,
             "#ed7953"
            ],
            [
             0.7777777777777778,
             "#fb9f3a"
            ],
            [
             0.8888888888888888,
             "#fdca26"
            ],
            [
             1,
             "#f0f921"
            ]
           ],
           "sequentialminus": [
            [
             0,
             "#0d0887"
            ],
            [
             0.1111111111111111,
             "#46039f"
            ],
            [
             0.2222222222222222,
             "#7201a8"
            ],
            [
             0.3333333333333333,
             "#9c179e"
            ],
            [
             0.4444444444444444,
             "#bd3786"
            ],
            [
             0.5555555555555556,
             "#d8576b"
            ],
            [
             0.6666666666666666,
             "#ed7953"
            ],
            [
             0.7777777777777778,
             "#fb9f3a"
            ],
            [
             0.8888888888888888,
             "#fdca26"
            ],
            [
             1,
             "#f0f921"
            ]
           ]
          },
          "colorway": [
           "#636efa",
           "#EF553B",
           "#00cc96",
           "#ab63fa",
           "#FFA15A",
           "#19d3f3",
           "#FF6692",
           "#B6E880",
           "#FF97FF",
           "#FECB52"
          ],
          "font": {
           "color": "#2a3f5f"
          },
          "geo": {
           "bgcolor": "white",
           "lakecolor": "white",
           "landcolor": "#E5ECF6",
           "showlakes": true,
           "showland": true,
           "subunitcolor": "white"
          },
          "hoverlabel": {
           "align": "left"
          },
          "hovermode": "closest",
          "mapbox": {
           "style": "light"
          },
          "paper_bgcolor": "white",
          "plot_bgcolor": "#E5ECF6",
          "polar": {
           "angularaxis": {
            "gridcolor": "white",
            "linecolor": "white",
            "ticks": ""
           },
           "bgcolor": "#E5ECF6",
           "radialaxis": {
            "gridcolor": "white",
            "linecolor": "white",
            "ticks": ""
           }
          },
          "scene": {
           "xaxis": {
            "backgroundcolor": "#E5ECF6",
            "gridcolor": "white",
            "gridwidth": 2,
            "linecolor": "white",
            "showbackground": true,
            "ticks": "",
            "zerolinecolor": "white"
           },
           "yaxis": {
            "backgroundcolor": "#E5ECF6",
            "gridcolor": "white",
            "gridwidth": 2,
            "linecolor": "white",
            "showbackground": true,
            "ticks": "",
            "zerolinecolor": "white"
           },
           "zaxis": {
            "backgroundcolor": "#E5ECF6",
            "gridcolor": "white",
            "gridwidth": 2,
            "linecolor": "white",
            "showbackground": true,
            "ticks": "",
            "zerolinecolor": "white"
           }
          },
          "shapedefaults": {
           "line": {
            "color": "#2a3f5f"
           }
          },
          "ternary": {
           "aaxis": {
            "gridcolor": "white",
            "linecolor": "white",
            "ticks": ""
           },
           "baxis": {
            "gridcolor": "white",
            "linecolor": "white",
            "ticks": ""
           },
           "bgcolor": "#E5ECF6",
           "caxis": {
            "gridcolor": "white",
            "linecolor": "white",
            "ticks": ""
           }
          },
          "title": {
           "x": 0.05
          },
          "xaxis": {
           "automargin": true,
           "gridcolor": "white",
           "linecolor": "white",
           "ticks": "",
           "title": {
            "standoff": 15
           },
           "zerolinecolor": "white",
           "zerolinewidth": 2
          },
          "yaxis": {
           "automargin": true,
           "gridcolor": "white",
           "linecolor": "white",
           "ticks": "",
           "title": {
            "standoff": 15
           },
           "zerolinecolor": "white",
           "zerolinewidth": 2
          }
         }
        },
        "width": 1200
       }
      }
     },
     "metadata": {},
     "output_type": "display_data"
    }
   ],
   "source": [
    "fig = go.Figure(\n",
    "    data = [\n",
    "        go.Candlestick(\n",
    "            x = df.index,\n",
    "            open = df[\"1. open\"],\n",
    "            high = df[\"2. high\"],\n",
    "            low = df[\"3. low\"],\n",
    "            close = df[\"4. close\"] \n",
    "        )\n",
    "    ]\n",
    ")\n",
    "\n",
    "fig.update_layout(width=1200, height=800)\n",
    "\n",
    "fig.show()"
   ]
  },
  {
   "cell_type": "markdown",
   "metadata": {},
   "source": [
    "### Create a class to get stock details for any stock"
   ]
  },
  {
   "cell_type": "code",
   "execution_count": 32,
   "metadata": {},
   "outputs": [],
   "source": [
    "class StockAPI:\n",
    "\n",
    "    def __init__(self):\n",
    "        self.url = \"https://alpha-vantage.p.rapidapi.com/query\"\n",
    "        self.headers = {\n",
    "            \"x-rapidapi-key\": os.getenv(\"API_KEY\"),\n",
    "            \"x-rapidapi-host\": \"alpha-vantage.p.rapidapi.com\",\n",
    "        }\n",
    "\n",
    "    def search_symbol(self, company_name):\n",
    "        querystring = {\n",
    "            \"datatype\": \"json\",\n",
    "            \"keywords\": company_name,\n",
    "            \"function\": \"SYMBOL_SEARCH\",\n",
    "        }\n",
    "        response = requests.get(self.url, headers=self.headers, params=querystring)\n",
    "        return response.json()\n",
    "\n",
    "    def get_stock_data(self, symbol):\n",
    "        querystring = {\n",
    "            \"function\": \"TIME_SERIES_DAILY\",\n",
    "            \"symbol\": symbol,\n",
    "            \"outputsize\": \"compact\",\n",
    "            \"datatype\": \"json\",\n",
    "        }\n",
    "        response = requests.get(url, headers=self.headers, params=querystring)\n",
    "        data = response.json()[\"Time Series (Daily)\"]\n",
    "        df = pd.DataFrame(data).T\n",
    "        df = df.astype(float).round(2)\n",
    "        df.index = pd.to_datetime(df.index)\n",
    "        df.index.name = \"Date\"\n",
    "        return df\n",
    "\n",
    "    def plot_candlestick(self, df):\n",
    "        fig = go.Figure(\n",
    "            data=[\n",
    "                go.Candlestick(\n",
    "                    x=df.index,\n",
    "                    open=df[\"1. open\"],\n",
    "                    high=df[\"2. high\"],\n",
    "                    low=df[\"3. low\"],\n",
    "                    close=df[\"4. close\"],\n",
    "                )\n",
    "            ]\n",
    "        )\n",
    "        fig.update_layout(width=1200, height=800)\n",
    "        fig.show()"
   ]
  },
  {
   "cell_type": "code",
   "execution_count": 33,
   "metadata": {},
   "outputs": [],
   "source": [
    "client = StockAPI()"
   ]
  },
  {
   "cell_type": "code",
   "execution_count": 34,
   "metadata": {},
   "outputs": [
    {
     "data": {
      "text/plain": [
       "{'bestMatches': [{'1. symbol': 'HDB',\n",
       "   '2. name': 'HDFC Bank Ltd',\n",
       "   '3. type': 'Equity',\n",
       "   '4. region': 'United States',\n",
       "   '5. marketOpen': '09:30',\n",
       "   '6. marketClose': '16:00',\n",
       "   '7. timezone': 'UTC-04',\n",
       "   '8. currency': 'USD',\n",
       "   '9. matchScore': '0.8182'},\n",
       "  {'1. symbol': 'HDFCBANK.BSE',\n",
       "   '2. name': 'HDFC Bank Limited',\n",
       "   '3. type': 'Equity',\n",
       "   '4. region': 'India/Bombay',\n",
       "   '5. marketOpen': '09:15',\n",
       "   '6. marketClose': '15:30',\n",
       "   '7. timezone': 'UTC+5.5',\n",
       "   '8. currency': 'INR',\n",
       "   '9. matchScore': '0.8000'},\n",
       "  {'1. symbol': 'H1DB34.SAO',\n",
       "   '2. name': 'HDFC Bank Limited',\n",
       "   '3. type': 'Equity',\n",
       "   '4. region': 'Brazil/Sao Paolo',\n",
       "   '5. marketOpen': '10:00',\n",
       "   '6. marketClose': '17:30',\n",
       "   '7. timezone': 'UTC-03',\n",
       "   '8. currency': 'BRL',\n",
       "   '9. matchScore': '0.6923'},\n",
       "  {'1. symbol': 'HDFA.FRK',\n",
       "   '2. name': 'HDFC Bank Limited',\n",
       "   '3. type': 'Equity',\n",
       "   '4. region': 'Frankfurt',\n",
       "   '5. marketOpen': '08:00',\n",
       "   '6. marketClose': '20:00',\n",
       "   '7. timezone': 'UTC+02',\n",
       "   '8. currency': 'EUR',\n",
       "   '9. matchScore': '0.6923'}]}"
      ]
     },
     "execution_count": 34,
     "metadata": {},
     "output_type": "execute_result"
    }
   ],
   "source": [
    "client.search_symbol(company_name= \"HDFC Bank\")"
   ]
  },
  {
   "cell_type": "code",
   "execution_count": 35,
   "metadata": {},
   "outputs": [],
   "source": [
    "df2 = client.get_stock_data(symbol= \"HDFCBANK.BSE\")"
   ]
  },
  {
   "cell_type": "code",
   "execution_count": 36,
   "metadata": {},
   "outputs": [
    {
     "data": {
      "text/html": [
       "<div>\n",
       "<style scoped>\n",
       "    .dataframe tbody tr th:only-of-type {\n",
       "        vertical-align: middle;\n",
       "    }\n",
       "\n",
       "    .dataframe tbody tr th {\n",
       "        vertical-align: top;\n",
       "    }\n",
       "\n",
       "    .dataframe thead th {\n",
       "        text-align: right;\n",
       "    }\n",
       "</style>\n",
       "<table border=\"1\" class=\"dataframe\">\n",
       "  <thead>\n",
       "    <tr style=\"text-align: right;\">\n",
       "      <th></th>\n",
       "      <th>1. open</th>\n",
       "      <th>2. high</th>\n",
       "      <th>3. low</th>\n",
       "      <th>4. close</th>\n",
       "      <th>5. volume</th>\n",
       "    </tr>\n",
       "    <tr>\n",
       "      <th>Date</th>\n",
       "      <th></th>\n",
       "      <th></th>\n",
       "      <th></th>\n",
       "      <th></th>\n",
       "      <th></th>\n",
       "    </tr>\n",
       "  </thead>\n",
       "  <tbody>\n",
       "    <tr>\n",
       "      <th>2025-01-02</th>\n",
       "      <td>1780.50</td>\n",
       "      <td>1803.00</td>\n",
       "      <td>1774.10</td>\n",
       "      <td>1793.35</td>\n",
       "      <td>79075.0</td>\n",
       "    </tr>\n",
       "    <tr>\n",
       "      <th>2025-01-01</th>\n",
       "      <td>1775.00</td>\n",
       "      <td>1794.40</td>\n",
       "      <td>1762.00</td>\n",
       "      <td>1782.45</td>\n",
       "      <td>110695.0</td>\n",
       "    </tr>\n",
       "    <tr>\n",
       "      <th>2024-12-31</th>\n",
       "      <td>1770.05</td>\n",
       "      <td>1781.35</td>\n",
       "      <td>1768.00</td>\n",
       "      <td>1772.45</td>\n",
       "      <td>107155.0</td>\n",
       "    </tr>\n",
       "    <tr>\n",
       "      <th>2024-12-30</th>\n",
       "      <td>1794.95</td>\n",
       "      <td>1815.00</td>\n",
       "      <td>1771.35</td>\n",
       "      <td>1778.70</td>\n",
       "      <td>292506.0</td>\n",
       "    </tr>\n",
       "    <tr>\n",
       "      <th>2024-12-27</th>\n",
       "      <td>1790.25</td>\n",
       "      <td>1803.00</td>\n",
       "      <td>1789.50</td>\n",
       "      <td>1797.85</td>\n",
       "      <td>218692.0</td>\n",
       "    </tr>\n",
       "    <tr>\n",
       "      <th>...</th>\n",
       "      <td>...</td>\n",
       "      <td>...</td>\n",
       "      <td>...</td>\n",
       "      <td>...</td>\n",
       "      <td>...</td>\n",
       "    </tr>\n",
       "    <tr>\n",
       "      <th>2024-08-16</th>\n",
       "      <td>1622.00</td>\n",
       "      <td>1634.60</td>\n",
       "      <td>1611.60</td>\n",
       "      <td>1632.35</td>\n",
       "      <td>977686.0</td>\n",
       "    </tr>\n",
       "    <tr>\n",
       "      <th>2024-08-14</th>\n",
       "      <td>1607.90</td>\n",
       "      <td>1613.55</td>\n",
       "      <td>1603.10</td>\n",
       "      <td>1607.90</td>\n",
       "      <td>305981.0</td>\n",
       "    </tr>\n",
       "    <tr>\n",
       "      <th>2024-08-13</th>\n",
       "      <td>1628.00</td>\n",
       "      <td>1631.55</td>\n",
       "      <td>1601.20</td>\n",
       "      <td>1603.60</td>\n",
       "      <td>970561.0</td>\n",
       "    </tr>\n",
       "    <tr>\n",
       "      <th>2024-08-12</th>\n",
       "      <td>1641.25</td>\n",
       "      <td>1675.60</td>\n",
       "      <td>1641.25</td>\n",
       "      <td>1661.05</td>\n",
       "      <td>1536607.0</td>\n",
       "    </tr>\n",
       "    <tr>\n",
       "      <th>2024-08-09</th>\n",
       "      <td>1655.95</td>\n",
       "      <td>1662.50</td>\n",
       "      <td>1646.10</td>\n",
       "      <td>1649.50</td>\n",
       "      <td>485526.0</td>\n",
       "    </tr>\n",
       "  </tbody>\n",
       "</table>\n",
       "<p>100 rows × 5 columns</p>\n",
       "</div>"
      ],
      "text/plain": [
       "            1. open  2. high   3. low  4. close  5. volume\n",
       "Date                                                      \n",
       "2025-01-02  1780.50  1803.00  1774.10   1793.35    79075.0\n",
       "2025-01-01  1775.00  1794.40  1762.00   1782.45   110695.0\n",
       "2024-12-31  1770.05  1781.35  1768.00   1772.45   107155.0\n",
       "2024-12-30  1794.95  1815.00  1771.35   1778.70   292506.0\n",
       "2024-12-27  1790.25  1803.00  1789.50   1797.85   218692.0\n",
       "...             ...      ...      ...       ...        ...\n",
       "2024-08-16  1622.00  1634.60  1611.60   1632.35   977686.0\n",
       "2024-08-14  1607.90  1613.55  1603.10   1607.90   305981.0\n",
       "2024-08-13  1628.00  1631.55  1601.20   1603.60   970561.0\n",
       "2024-08-12  1641.25  1675.60  1641.25   1661.05  1536607.0\n",
       "2024-08-09  1655.95  1662.50  1646.10   1649.50   485526.0\n",
       "\n",
       "[100 rows x 5 columns]"
      ]
     },
     "execution_count": 36,
     "metadata": {},
     "output_type": "execute_result"
    }
   ],
   "source": [
    "df2"
   ]
  },
  {
   "cell_type": "code",
   "execution_count": 37,
   "metadata": {},
   "outputs": [],
   "source": [
    "df2.to_csv(\"HDFCPrice.csv\")"
   ]
  },
  {
   "cell_type": "code",
   "execution_count": 38,
   "metadata": {},
   "outputs": [
    {
     "data": {
      "application/vnd.plotly.v1+json": {
       "config": {
        "plotlyServerURL": "https://plot.ly"
       },
       "data": [
        {
         "close": [
          1793.35,
          1782.45,
          1772.45,
          1778.7,
          1797.85,
          1791.75,
          1797.65,
          1801,
          1772.05,
          1793.45,
          1811.2,
          1832.85,
          1864.8,
          1872.05,
          1858.95,
          1863.7,
          1868.05,
          1869.8,
          1856.5,
          1863.8,
          1860.05,
          1826.85,
          1804.55,
          1797.65,
          1792.9,
          1811,
          1785.4,
          1784.6,
          1745.95,
          1741.95,
          1742.25,
          1704.5,
          1693.1,
          1681.25,
          1718.35,
          1766.6,
          1754.55,
          1746.15,
          1754.15,
          1757.95,
          1714.05,
          1737.8,
          1734.95,
          1735,
          1751,
          1734.3,
          1742.6,
          1750.1,
          1735.7,
          1714.1,
          1728.8,
          1681.15,
          1673.35,
          1699.95,
          1684.4,
          1688.5,
          1650.25,
          1662.3,
          1633.7,
          1651.3,
          1619.65,
          1656.8,
          1682.15,
          1726.15,
          1732,
          1752.85,
          1782.3,
          1778.85,
          1768.45,
          1759.25,
          1742.15,
          1708.15,
          1694.35,
          1668.7,
          1671,
          1665.35,
          1666,
          1644.35,
          1650.6,
          1647.5,
          1637,
          1645.25,
          1641.95,
          1637.8,
          1626.15,
          1632.95,
          1638.5,
          1636.4,
          1637.05,
          1639.6,
          1625.6,
          1631.75,
          1626.5,
          1637.4,
          1631.55,
          1632.35,
          1607.9,
          1603.6,
          1661.05,
          1649.5
         ],
         "high": [
          1803,
          1794.4,
          1781.35,
          1815,
          1803,
          1811.4,
          1806.15,
          1805.9,
          1797.35,
          1800.2,
          1835.65,
          1862.25,
          1870,
          1874.55,
          1868.65,
          1871.05,
          1875,
          1880,
          1864.15,
          1879,
          1865,
          1837,
          1808,
          1804.25,
          1836.05,
          1817.2,
          1804.1,
          1801.9,
          1753.8,
          1758.75,
          1753.65,
          1718.8,
          1704.6,
          1729,
          1773.25,
          1782.5,
          1761.45,
          1760.1,
          1772,
          1762.5,
          1743.6,
          1748.95,
          1739.65,
          1755,
          1763.7,
          1750.9,
          1758.35,
          1768.65,
          1746.45,
          1740,
          1748.2,
          1691,
          1698.25,
          1707.7,
          1698,
          1692,
          1665.05,
          1665,
          1656.55,
          1657,
          1659.8,
          1690.4,
          1725.9,
          1742,
          1752,
          1778.1,
          1787.8,
          1787.9,
          1781.8,
          1766.65,
          1745,
          1718.9,
          1698.8,
          1677,
          1677.65,
          1674,
          1669.5,
          1652.2,
          1654,
          1649.7,
          1647.05,
          1649.9,
          1643.7,
          1639.95,
          1645.7,
          1660.75,
          1644.4,
          1640.2,
          1647.35,
          1647.55,
          1634.85,
          1638,
          1634.35,
          1645.8,
          1637.05,
          1634.6,
          1613.55,
          1631.55,
          1675.6,
          1662.5
         ],
         "low": [
          1774.1,
          1762,
          1768,
          1771.35,
          1789.5,
          1781.75,
          1789.1,
          1780,
          1766.9,
          1779,
          1807.45,
          1826.35,
          1855.1,
          1829,
          1849.35,
          1857,
          1858.65,
          1849.55,
          1843.7,
          1835.9,
          1831.2,
          1816.4,
          1775,
          1783.1,
          1788,
          1785.3,
          1770,
          1765,
          1729.3,
          1733.7,
          1704,
          1694.6,
          1674,
          1672.5,
          1708.8,
          1751.55,
          1746.15,
          1737.8,
          1745.25,
          1698,
          1710,
          1728.75,
          1719.05,
          1724.4,
          1725.1,
          1728.95,
          1729,
          1737.55,
          1702.3,
          1710.95,
          1710.5,
          1654.05,
          1665.15,
          1677.55,
          1675.65,
          1654.95,
          1643.2,
          1633,
          1629,
          1619.65,
          1613.4,
          1652.4,
          1673.8,
          1720.05,
          1724,
          1750,
          1768.1,
          1760.9,
          1754,
          1739.95,
          1707.55,
          1696,
          1671,
          1663.85,
          1660.6,
          1657.15,
          1647.35,
          1639.1,
          1638,
          1629.65,
          1634,
          1641.8,
          1631.6,
          1624.85,
          1620.2,
          1622.95,
          1631.15,
          1630.25,
          1632.2,
          1631.05,
          1622.95,
          1628.1,
          1618,
          1628.15,
          1623.15,
          1611.6,
          1603.1,
          1601.2,
          1641.25,
          1646.1
         ],
         "open": [
          1780.5,
          1775,
          1770.05,
          1794.95,
          1790.25,
          1797.5,
          1803.95,
          1780,
          1787.95,
          1795.05,
          1832.5,
          1856.05,
          1863,
          1855.2,
          1849.95,
          1865,
          1870.25,
          1853.05,
          1859.75,
          1862,
          1838,
          1819.9,
          1797.65,
          1794.05,
          1818,
          1787.15,
          1800,
          1779,
          1740.15,
          1756.05,
          1715.05,
          1706.2,
          1674.95,
          1711.3,
          1767.2,
          1753,
          1747.05,
          1749.95,
          1765.2,
          1707.95,
          1741.4,
          1748.95,
          1730,
          1747.95,
          1725.1,
          1738.8,
          1757,
          1737.55,
          1702.3,
          1729,
          1720.05,
          1662.4,
          1692.4,
          1677.55,
          1692.55,
          1658,
          1664,
          1643,
          1651.95,
          1619.65,
          1654.95,
          1668.95,
          1710.05,
          1724.1,
          1751,
          1778.1,
          1778.8,
          1762.65,
          1764,
          1742.2,
          1715.25,
          1696,
          1671,
          1672.55,
          1660.6,
          1672,
          1648.3,
          1650,
          1652.4,
          1638.2,
          1640.8,
          1643.3,
          1637,
          1635.05,
          1645.7,
          1655,
          1642,
          1635.6,
          1640.85,
          1631.05,
          1634,
          1632,
          1626.5,
          1629.95,
          1635.75,
          1622,
          1607.9,
          1628,
          1641.25,
          1655.95
         ],
         "type": "candlestick",
         "x": [
          "2025-01-02T00:00:00",
          "2025-01-01T00:00:00",
          "2024-12-31T00:00:00",
          "2024-12-30T00:00:00",
          "2024-12-27T00:00:00",
          "2024-12-26T00:00:00",
          "2024-12-24T00:00:00",
          "2024-12-23T00:00:00",
          "2024-12-20T00:00:00",
          "2024-12-19T00:00:00",
          "2024-12-18T00:00:00",
          "2024-12-17T00:00:00",
          "2024-12-16T00:00:00",
          "2024-12-13T00:00:00",
          "2024-12-12T00:00:00",
          "2024-12-11T00:00:00",
          "2024-12-10T00:00:00",
          "2024-12-09T00:00:00",
          "2024-12-06T00:00:00",
          "2024-12-05T00:00:00",
          "2024-12-04T00:00:00",
          "2024-12-03T00:00:00",
          "2024-12-02T00:00:00",
          "2024-11-29T00:00:00",
          "2024-11-28T00:00:00",
          "2024-11-27T00:00:00",
          "2024-11-26T00:00:00",
          "2024-11-25T00:00:00",
          "2024-11-22T00:00:00",
          "2024-11-21T00:00:00",
          "2024-11-19T00:00:00",
          "2024-11-18T00:00:00",
          "2024-11-14T00:00:00",
          "2024-11-13T00:00:00",
          "2024-11-12T00:00:00",
          "2024-11-11T00:00:00",
          "2024-11-08T00:00:00",
          "2024-11-07T00:00:00",
          "2024-11-06T00:00:00",
          "2024-11-05T00:00:00",
          "2024-11-04T00:00:00",
          "2024-11-01T00:00:00",
          "2024-10-31T00:00:00",
          "2024-10-30T00:00:00",
          "2024-10-29T00:00:00",
          "2024-10-28T00:00:00",
          "2024-10-25T00:00:00",
          "2024-10-24T00:00:00",
          "2024-10-23T00:00:00",
          "2024-10-22T00:00:00",
          "2024-10-21T00:00:00",
          "2024-10-18T00:00:00",
          "2024-10-17T00:00:00",
          "2024-10-16T00:00:00",
          "2024-10-15T00:00:00",
          "2024-10-14T00:00:00",
          "2024-10-11T00:00:00",
          "2024-10-10T00:00:00",
          "2024-10-09T00:00:00",
          "2024-10-08T00:00:00",
          "2024-10-07T00:00:00",
          "2024-10-04T00:00:00",
          "2024-10-03T00:00:00",
          "2024-10-01T00:00:00",
          "2024-09-30T00:00:00",
          "2024-09-27T00:00:00",
          "2024-09-26T00:00:00",
          "2024-09-25T00:00:00",
          "2024-09-24T00:00:00",
          "2024-09-23T00:00:00",
          "2024-09-20T00:00:00",
          "2024-09-19T00:00:00",
          "2024-09-18T00:00:00",
          "2024-09-17T00:00:00",
          "2024-09-16T00:00:00",
          "2024-09-13T00:00:00",
          "2024-09-12T00:00:00",
          "2024-09-11T00:00:00",
          "2024-09-10T00:00:00",
          "2024-09-09T00:00:00",
          "2024-09-06T00:00:00",
          "2024-09-05T00:00:00",
          "2024-09-04T00:00:00",
          "2024-09-03T00:00:00",
          "2024-09-02T00:00:00",
          "2024-08-30T00:00:00",
          "2024-08-29T00:00:00",
          "2024-08-28T00:00:00",
          "2024-08-27T00:00:00",
          "2024-08-26T00:00:00",
          "2024-08-23T00:00:00",
          "2024-08-22T00:00:00",
          "2024-08-21T00:00:00",
          "2024-08-20T00:00:00",
          "2024-08-19T00:00:00",
          "2024-08-16T00:00:00",
          "2024-08-14T00:00:00",
          "2024-08-13T00:00:00",
          "2024-08-12T00:00:00",
          "2024-08-09T00:00:00"
         ]
        }
       ],
       "layout": {
        "height": 800,
        "template": {
         "data": {
          "bar": [
           {
            "error_x": {
             "color": "#2a3f5f"
            },
            "error_y": {
             "color": "#2a3f5f"
            },
            "marker": {
             "line": {
              "color": "#E5ECF6",
              "width": 0.5
             },
             "pattern": {
              "fillmode": "overlay",
              "size": 10,
              "solidity": 0.2
             }
            },
            "type": "bar"
           }
          ],
          "barpolar": [
           {
            "marker": {
             "line": {
              "color": "#E5ECF6",
              "width": 0.5
             },
             "pattern": {
              "fillmode": "overlay",
              "size": 10,
              "solidity": 0.2
             }
            },
            "type": "barpolar"
           }
          ],
          "carpet": [
           {
            "aaxis": {
             "endlinecolor": "#2a3f5f",
             "gridcolor": "white",
             "linecolor": "white",
             "minorgridcolor": "white",
             "startlinecolor": "#2a3f5f"
            },
            "baxis": {
             "endlinecolor": "#2a3f5f",
             "gridcolor": "white",
             "linecolor": "white",
             "minorgridcolor": "white",
             "startlinecolor": "#2a3f5f"
            },
            "type": "carpet"
           }
          ],
          "choropleth": [
           {
            "colorbar": {
             "outlinewidth": 0,
             "ticks": ""
            },
            "type": "choropleth"
           }
          ],
          "contour": [
           {
            "colorbar": {
             "outlinewidth": 0,
             "ticks": ""
            },
            "colorscale": [
             [
              0,
              "#0d0887"
             ],
             [
              0.1111111111111111,
              "#46039f"
             ],
             [
              0.2222222222222222,
              "#7201a8"
             ],
             [
              0.3333333333333333,
              "#9c179e"
             ],
             [
              0.4444444444444444,
              "#bd3786"
             ],
             [
              0.5555555555555556,
              "#d8576b"
             ],
             [
              0.6666666666666666,
              "#ed7953"
             ],
             [
              0.7777777777777778,
              "#fb9f3a"
             ],
             [
              0.8888888888888888,
              "#fdca26"
             ],
             [
              1,
              "#f0f921"
             ]
            ],
            "type": "contour"
           }
          ],
          "contourcarpet": [
           {
            "colorbar": {
             "outlinewidth": 0,
             "ticks": ""
            },
            "type": "contourcarpet"
           }
          ],
          "heatmap": [
           {
            "colorbar": {
             "outlinewidth": 0,
             "ticks": ""
            },
            "colorscale": [
             [
              0,
              "#0d0887"
             ],
             [
              0.1111111111111111,
              "#46039f"
             ],
             [
              0.2222222222222222,
              "#7201a8"
             ],
             [
              0.3333333333333333,
              "#9c179e"
             ],
             [
              0.4444444444444444,
              "#bd3786"
             ],
             [
              0.5555555555555556,
              "#d8576b"
             ],
             [
              0.6666666666666666,
              "#ed7953"
             ],
             [
              0.7777777777777778,
              "#fb9f3a"
             ],
             [
              0.8888888888888888,
              "#fdca26"
             ],
             [
              1,
              "#f0f921"
             ]
            ],
            "type": "heatmap"
           }
          ],
          "heatmapgl": [
           {
            "colorbar": {
             "outlinewidth": 0,
             "ticks": ""
            },
            "colorscale": [
             [
              0,
              "#0d0887"
             ],
             [
              0.1111111111111111,
              "#46039f"
             ],
             [
              0.2222222222222222,
              "#7201a8"
             ],
             [
              0.3333333333333333,
              "#9c179e"
             ],
             [
              0.4444444444444444,
              "#bd3786"
             ],
             [
              0.5555555555555556,
              "#d8576b"
             ],
             [
              0.6666666666666666,
              "#ed7953"
             ],
             [
              0.7777777777777778,
              "#fb9f3a"
             ],
             [
              0.8888888888888888,
              "#fdca26"
             ],
             [
              1,
              "#f0f921"
             ]
            ],
            "type": "heatmapgl"
           }
          ],
          "histogram": [
           {
            "marker": {
             "pattern": {
              "fillmode": "overlay",
              "size": 10,
              "solidity": 0.2
             }
            },
            "type": "histogram"
           }
          ],
          "histogram2d": [
           {
            "colorbar": {
             "outlinewidth": 0,
             "ticks": ""
            },
            "colorscale": [
             [
              0,
              "#0d0887"
             ],
             [
              0.1111111111111111,
              "#46039f"
             ],
             [
              0.2222222222222222,
              "#7201a8"
             ],
             [
              0.3333333333333333,
              "#9c179e"
             ],
             [
              0.4444444444444444,
              "#bd3786"
             ],
             [
              0.5555555555555556,
              "#d8576b"
             ],
             [
              0.6666666666666666,
              "#ed7953"
             ],
             [
              0.7777777777777778,
              "#fb9f3a"
             ],
             [
              0.8888888888888888,
              "#fdca26"
             ],
             [
              1,
              "#f0f921"
             ]
            ],
            "type": "histogram2d"
           }
          ],
          "histogram2dcontour": [
           {
            "colorbar": {
             "outlinewidth": 0,
             "ticks": ""
            },
            "colorscale": [
             [
              0,
              "#0d0887"
             ],
             [
              0.1111111111111111,
              "#46039f"
             ],
             [
              0.2222222222222222,
              "#7201a8"
             ],
             [
              0.3333333333333333,
              "#9c179e"
             ],
             [
              0.4444444444444444,
              "#bd3786"
             ],
             [
              0.5555555555555556,
              "#d8576b"
             ],
             [
              0.6666666666666666,
              "#ed7953"
             ],
             [
              0.7777777777777778,
              "#fb9f3a"
             ],
             [
              0.8888888888888888,
              "#fdca26"
             ],
             [
              1,
              "#f0f921"
             ]
            ],
            "type": "histogram2dcontour"
           }
          ],
          "mesh3d": [
           {
            "colorbar": {
             "outlinewidth": 0,
             "ticks": ""
            },
            "type": "mesh3d"
           }
          ],
          "parcoords": [
           {
            "line": {
             "colorbar": {
              "outlinewidth": 0,
              "ticks": ""
             }
            },
            "type": "parcoords"
           }
          ],
          "pie": [
           {
            "automargin": true,
            "type": "pie"
           }
          ],
          "scatter": [
           {
            "fillpattern": {
             "fillmode": "overlay",
             "size": 10,
             "solidity": 0.2
            },
            "type": "scatter"
           }
          ],
          "scatter3d": [
           {
            "line": {
             "colorbar": {
              "outlinewidth": 0,
              "ticks": ""
             }
            },
            "marker": {
             "colorbar": {
              "outlinewidth": 0,
              "ticks": ""
             }
            },
            "type": "scatter3d"
           }
          ],
          "scattercarpet": [
           {
            "marker": {
             "colorbar": {
              "outlinewidth": 0,
              "ticks": ""
             }
            },
            "type": "scattercarpet"
           }
          ],
          "scattergeo": [
           {
            "marker": {
             "colorbar": {
              "outlinewidth": 0,
              "ticks": ""
             }
            },
            "type": "scattergeo"
           }
          ],
          "scattergl": [
           {
            "marker": {
             "colorbar": {
              "outlinewidth": 0,
              "ticks": ""
             }
            },
            "type": "scattergl"
           }
          ],
          "scattermapbox": [
           {
            "marker": {
             "colorbar": {
              "outlinewidth": 0,
              "ticks": ""
             }
            },
            "type": "scattermapbox"
           }
          ],
          "scatterpolar": [
           {
            "marker": {
             "colorbar": {
              "outlinewidth": 0,
              "ticks": ""
             }
            },
            "type": "scatterpolar"
           }
          ],
          "scatterpolargl": [
           {
            "marker": {
             "colorbar": {
              "outlinewidth": 0,
              "ticks": ""
             }
            },
            "type": "scatterpolargl"
           }
          ],
          "scatterternary": [
           {
            "marker": {
             "colorbar": {
              "outlinewidth": 0,
              "ticks": ""
             }
            },
            "type": "scatterternary"
           }
          ],
          "surface": [
           {
            "colorbar": {
             "outlinewidth": 0,
             "ticks": ""
            },
            "colorscale": [
             [
              0,
              "#0d0887"
             ],
             [
              0.1111111111111111,
              "#46039f"
             ],
             [
              0.2222222222222222,
              "#7201a8"
             ],
             [
              0.3333333333333333,
              "#9c179e"
             ],
             [
              0.4444444444444444,
              "#bd3786"
             ],
             [
              0.5555555555555556,
              "#d8576b"
             ],
             [
              0.6666666666666666,
              "#ed7953"
             ],
             [
              0.7777777777777778,
              "#fb9f3a"
             ],
             [
              0.8888888888888888,
              "#fdca26"
             ],
             [
              1,
              "#f0f921"
             ]
            ],
            "type": "surface"
           }
          ],
          "table": [
           {
            "cells": {
             "fill": {
              "color": "#EBF0F8"
             },
             "line": {
              "color": "white"
             }
            },
            "header": {
             "fill": {
              "color": "#C8D4E3"
             },
             "line": {
              "color": "white"
             }
            },
            "type": "table"
           }
          ]
         },
         "layout": {
          "annotationdefaults": {
           "arrowcolor": "#2a3f5f",
           "arrowhead": 0,
           "arrowwidth": 1
          },
          "autotypenumbers": "strict",
          "coloraxis": {
           "colorbar": {
            "outlinewidth": 0,
            "ticks": ""
           }
          },
          "colorscale": {
           "diverging": [
            [
             0,
             "#8e0152"
            ],
            [
             0.1,
             "#c51b7d"
            ],
            [
             0.2,
             "#de77ae"
            ],
            [
             0.3,
             "#f1b6da"
            ],
            [
             0.4,
             "#fde0ef"
            ],
            [
             0.5,
             "#f7f7f7"
            ],
            [
             0.6,
             "#e6f5d0"
            ],
            [
             0.7,
             "#b8e186"
            ],
            [
             0.8,
             "#7fbc41"
            ],
            [
             0.9,
             "#4d9221"
            ],
            [
             1,
             "#276419"
            ]
           ],
           "sequential": [
            [
             0,
             "#0d0887"
            ],
            [
             0.1111111111111111,
             "#46039f"
            ],
            [
             0.2222222222222222,
             "#7201a8"
            ],
            [
             0.3333333333333333,
             "#9c179e"
            ],
            [
             0.4444444444444444,
             "#bd3786"
            ],
            [
             0.5555555555555556,
             "#d8576b"
            ],
            [
             0.6666666666666666,
             "#ed7953"
            ],
            [
             0.7777777777777778,
             "#fb9f3a"
            ],
            [
             0.8888888888888888,
             "#fdca26"
            ],
            [
             1,
             "#f0f921"
            ]
           ],
           "sequentialminus": [
            [
             0,
             "#0d0887"
            ],
            [
             0.1111111111111111,
             "#46039f"
            ],
            [
             0.2222222222222222,
             "#7201a8"
            ],
            [
             0.3333333333333333,
             "#9c179e"
            ],
            [
             0.4444444444444444,
             "#bd3786"
            ],
            [
             0.5555555555555556,
             "#d8576b"
            ],
            [
             0.6666666666666666,
             "#ed7953"
            ],
            [
             0.7777777777777778,
             "#fb9f3a"
            ],
            [
             0.8888888888888888,
             "#fdca26"
            ],
            [
             1,
             "#f0f921"
            ]
           ]
          },
          "colorway": [
           "#636efa",
           "#EF553B",
           "#00cc96",
           "#ab63fa",
           "#FFA15A",
           "#19d3f3",
           "#FF6692",
           "#B6E880",
           "#FF97FF",
           "#FECB52"
          ],
          "font": {
           "color": "#2a3f5f"
          },
          "geo": {
           "bgcolor": "white",
           "lakecolor": "white",
           "landcolor": "#E5ECF6",
           "showlakes": true,
           "showland": true,
           "subunitcolor": "white"
          },
          "hoverlabel": {
           "align": "left"
          },
          "hovermode": "closest",
          "mapbox": {
           "style": "light"
          },
          "paper_bgcolor": "white",
          "plot_bgcolor": "#E5ECF6",
          "polar": {
           "angularaxis": {
            "gridcolor": "white",
            "linecolor": "white",
            "ticks": ""
           },
           "bgcolor": "#E5ECF6",
           "radialaxis": {
            "gridcolor": "white",
            "linecolor": "white",
            "ticks": ""
           }
          },
          "scene": {
           "xaxis": {
            "backgroundcolor": "#E5ECF6",
            "gridcolor": "white",
            "gridwidth": 2,
            "linecolor": "white",
            "showbackground": true,
            "ticks": "",
            "zerolinecolor": "white"
           },
           "yaxis": {
            "backgroundcolor": "#E5ECF6",
            "gridcolor": "white",
            "gridwidth": 2,
            "linecolor": "white",
            "showbackground": true,
            "ticks": "",
            "zerolinecolor": "white"
           },
           "zaxis": {
            "backgroundcolor": "#E5ECF6",
            "gridcolor": "white",
            "gridwidth": 2,
            "linecolor": "white",
            "showbackground": true,
            "ticks": "",
            "zerolinecolor": "white"
           }
          },
          "shapedefaults": {
           "line": {
            "color": "#2a3f5f"
           }
          },
          "ternary": {
           "aaxis": {
            "gridcolor": "white",
            "linecolor": "white",
            "ticks": ""
           },
           "baxis": {
            "gridcolor": "white",
            "linecolor": "white",
            "ticks": ""
           },
           "bgcolor": "#E5ECF6",
           "caxis": {
            "gridcolor": "white",
            "linecolor": "white",
            "ticks": ""
           }
          },
          "title": {
           "x": 0.05
          },
          "xaxis": {
           "automargin": true,
           "gridcolor": "white",
           "linecolor": "white",
           "ticks": "",
           "title": {
            "standoff": 15
           },
           "zerolinecolor": "white",
           "zerolinewidth": 2
          },
          "yaxis": {
           "automargin": true,
           "gridcolor": "white",
           "linecolor": "white",
           "ticks": "",
           "title": {
            "standoff": 15
           },
           "zerolinecolor": "white",
           "zerolinewidth": 2
          }
         }
        },
        "width": 1200
       }
      }
     },
     "metadata": {},
     "output_type": "display_data"
    }
   ],
   "source": [
    "client.plot_candlestick(df2)"
   ]
  },
  {
   "cell_type": "markdown",
   "metadata": {},
   "source": [
    "### Get the details for Tesla stock from US"
   ]
  },
  {
   "cell_type": "code",
   "execution_count": 39,
   "metadata": {},
   "outputs": [
    {
     "data": {
      "text/plain": [
       "{'bestMatches': [{'1. symbol': 'TSLA',\n",
       "   '2. name': 'Tesla Inc',\n",
       "   '3. type': 'Equity',\n",
       "   '4. region': 'United States',\n",
       "   '5. marketOpen': '09:30',\n",
       "   '6. marketClose': '16:00',\n",
       "   '7. timezone': 'UTC-04',\n",
       "   '8. currency': 'USD',\n",
       "   '9. matchScore': '0.8889'},\n",
       "  {'1. symbol': 'TL0.DEX',\n",
       "   '2. name': 'Tesla Inc',\n",
       "   '3. type': 'Equity',\n",
       "   '4. region': 'XETRA',\n",
       "   '5. marketOpen': '08:00',\n",
       "   '6. marketClose': '20:00',\n",
       "   '7. timezone': 'UTC+02',\n",
       "   '8. currency': 'EUR',\n",
       "   '9. matchScore': '0.7143'},\n",
       "  {'1. symbol': 'TL0.FRK',\n",
       "   '2. name': 'Tesla Inc',\n",
       "   '3. type': 'Equity',\n",
       "   '4. region': 'Frankfurt',\n",
       "   '5. marketOpen': '08:00',\n",
       "   '6. marketClose': '20:00',\n",
       "   '7. timezone': 'UTC+02',\n",
       "   '8. currency': 'EUR',\n",
       "   '9. matchScore': '0.7143'},\n",
       "  {'1. symbol': 'TSLA34.SAO',\n",
       "   '2. name': 'Tesla Inc',\n",
       "   '3. type': 'Equity',\n",
       "   '4. region': 'Brazil/Sao Paolo',\n",
       "   '5. marketOpen': '10:00',\n",
       "   '6. marketClose': '17:30',\n",
       "   '7. timezone': 'UTC-03',\n",
       "   '8. currency': 'BRL',\n",
       "   '9. matchScore': '0.7143'},\n",
       "  {'1. symbol': 'TL01.FRK',\n",
       "   '2. name': 'TESLA INC. CDR DL-001',\n",
       "   '3. type': 'Equity',\n",
       "   '4. region': 'Frankfurt',\n",
       "   '5. marketOpen': '08:00',\n",
       "   '6. marketClose': '20:00',\n",
       "   '7. timezone': 'UTC+02',\n",
       "   '8. currency': 'EUR',\n",
       "   '9. matchScore': '0.3846'}]}"
      ]
     },
     "execution_count": 39,
     "metadata": {},
     "output_type": "execute_result"
    }
   ],
   "source": [
    "client.search_symbol(company_name=\"Tesla\")"
   ]
  },
  {
   "cell_type": "code",
   "execution_count": 40,
   "metadata": {},
   "outputs": [],
   "source": [
    "df3 = client.get_stock_data(symbol= \"TSLA\")"
   ]
  },
  {
   "cell_type": "code",
   "execution_count": 41,
   "metadata": {},
   "outputs": [
    {
     "data": {
      "text/html": [
       "<div>\n",
       "<style scoped>\n",
       "    .dataframe tbody tr th:only-of-type {\n",
       "        vertical-align: middle;\n",
       "    }\n",
       "\n",
       "    .dataframe tbody tr th {\n",
       "        vertical-align: top;\n",
       "    }\n",
       "\n",
       "    .dataframe thead th {\n",
       "        text-align: right;\n",
       "    }\n",
       "</style>\n",
       "<table border=\"1\" class=\"dataframe\">\n",
       "  <thead>\n",
       "    <tr style=\"text-align: right;\">\n",
       "      <th></th>\n",
       "      <th>1. open</th>\n",
       "      <th>2. high</th>\n",
       "      <th>3. low</th>\n",
       "      <th>4. close</th>\n",
       "      <th>5. volume</th>\n",
       "    </tr>\n",
       "    <tr>\n",
       "      <th>Date</th>\n",
       "      <th></th>\n",
       "      <th></th>\n",
       "      <th></th>\n",
       "      <th></th>\n",
       "      <th></th>\n",
       "    </tr>\n",
       "  </thead>\n",
       "  <tbody>\n",
       "    <tr>\n",
       "      <th>2025-01-02</th>\n",
       "      <td>390.10</td>\n",
       "      <td>392.73</td>\n",
       "      <td>373.04</td>\n",
       "      <td>379.28</td>\n",
       "      <td>109710749.0</td>\n",
       "    </tr>\n",
       "    <tr>\n",
       "      <th>2024-12-31</th>\n",
       "      <td>423.79</td>\n",
       "      <td>427.93</td>\n",
       "      <td>402.54</td>\n",
       "      <td>403.84</td>\n",
       "      <td>76825121.0</td>\n",
       "    </tr>\n",
       "    <tr>\n",
       "      <th>2024-12-30</th>\n",
       "      <td>419.40</td>\n",
       "      <td>427.00</td>\n",
       "      <td>415.75</td>\n",
       "      <td>417.41</td>\n",
       "      <td>64941012.0</td>\n",
       "    </tr>\n",
       "    <tr>\n",
       "      <th>2024-12-27</th>\n",
       "      <td>449.52</td>\n",
       "      <td>450.00</td>\n",
       "      <td>426.50</td>\n",
       "      <td>431.66</td>\n",
       "      <td>82666821.0</td>\n",
       "    </tr>\n",
       "    <tr>\n",
       "      <th>2024-12-26</th>\n",
       "      <td>465.16</td>\n",
       "      <td>465.33</td>\n",
       "      <td>451.02</td>\n",
       "      <td>454.13</td>\n",
       "      <td>76651210.0</td>\n",
       "    </tr>\n",
       "    <tr>\n",
       "      <th>...</th>\n",
       "      <td>...</td>\n",
       "      <td>...</td>\n",
       "      <td>...</td>\n",
       "      <td>...</td>\n",
       "      <td>...</td>\n",
       "    </tr>\n",
       "    <tr>\n",
       "      <th>2024-08-16</th>\n",
       "      <td>211.15</td>\n",
       "      <td>219.80</td>\n",
       "      <td>210.80</td>\n",
       "      <td>216.12</td>\n",
       "      <td>88765122.0</td>\n",
       "    </tr>\n",
       "    <tr>\n",
       "      <th>2024-08-15</th>\n",
       "      <td>205.02</td>\n",
       "      <td>215.88</td>\n",
       "      <td>204.82</td>\n",
       "      <td>214.14</td>\n",
       "      <td>89848530.0</td>\n",
       "    </tr>\n",
       "    <tr>\n",
       "      <th>2024-08-14</th>\n",
       "      <td>207.39</td>\n",
       "      <td>208.44</td>\n",
       "      <td>198.75</td>\n",
       "      <td>201.38</td>\n",
       "      <td>70250014.0</td>\n",
       "    </tr>\n",
       "    <tr>\n",
       "      <th>2024-08-13</th>\n",
       "      <td>198.47</td>\n",
       "      <td>208.49</td>\n",
       "      <td>197.06</td>\n",
       "      <td>207.83</td>\n",
       "      <td>76247387.0</td>\n",
       "    </tr>\n",
       "    <tr>\n",
       "      <th>2024-08-12</th>\n",
       "      <td>199.02</td>\n",
       "      <td>199.26</td>\n",
       "      <td>194.67</td>\n",
       "      <td>197.49</td>\n",
       "      <td>64044903.0</td>\n",
       "    </tr>\n",
       "  </tbody>\n",
       "</table>\n",
       "<p>100 rows × 5 columns</p>\n",
       "</div>"
      ],
      "text/plain": [
       "            1. open  2. high  3. low  4. close    5. volume\n",
       "Date                                                       \n",
       "2025-01-02   390.10   392.73  373.04    379.28  109710749.0\n",
       "2024-12-31   423.79   427.93  402.54    403.84   76825121.0\n",
       "2024-12-30   419.40   427.00  415.75    417.41   64941012.0\n",
       "2024-12-27   449.52   450.00  426.50    431.66   82666821.0\n",
       "2024-12-26   465.16   465.33  451.02    454.13   76651210.0\n",
       "...             ...      ...     ...       ...          ...\n",
       "2024-08-16   211.15   219.80  210.80    216.12   88765122.0\n",
       "2024-08-15   205.02   215.88  204.82    214.14   89848530.0\n",
       "2024-08-14   207.39   208.44  198.75    201.38   70250014.0\n",
       "2024-08-13   198.47   208.49  197.06    207.83   76247387.0\n",
       "2024-08-12   199.02   199.26  194.67    197.49   64044903.0\n",
       "\n",
       "[100 rows x 5 columns]"
      ]
     },
     "execution_count": 41,
     "metadata": {},
     "output_type": "execute_result"
    }
   ],
   "source": [
    "df3"
   ]
  },
  {
   "cell_type": "code",
   "execution_count": 42,
   "metadata": {},
   "outputs": [
    {
     "data": {
      "application/vnd.plotly.v1+json": {
       "config": {
        "plotlyServerURL": "https://plot.ly"
       },
       "data": [
        {
         "close": [
          379.28,
          403.84,
          417.41,
          431.66,
          454.13,
          462.28,
          430.6,
          421.06,
          436.17,
          440.13,
          479.86,
          463.02,
          436.23,
          418.1,
          424.77,
          400.99,
          389.79,
          389.22,
          369.49,
          357.93,
          351.42,
          357.09,
          345.16,
          332.89,
          338.23,
          338.59,
          352.56,
          339.64,
          342.03,
          346,
          338.74,
          320.72,
          311.18,
          330.24,
          328.49,
          350,
          321.22,
          296.91,
          288.53,
          251.44,
          242.84,
          248.98,
          249.85,
          257.55,
          259.52,
          262.51,
          269.19,
          260.48,
          213.65,
          217.97,
          218.85,
          220.7,
          220.89,
          221.33,
          219.57,
          219.16,
          217.8,
          238.77,
          241.05,
          244.5,
          240.83,
          250.08,
          240.66,
          249.02,
          258.02,
          261.63,
          260.46,
          254.22,
          257.02,
          254.27,
          250,
          238.25,
          243.92,
          227.2,
          227.87,
          226.78,
          230.29,
          229.81,
          228.13,
          226.17,
          216.27,
          210.73,
          230.17,
          219.41,
          210.6,
          214.11,
          206.28,
          205.75,
          209.21,
          213.21,
          220.32,
          210.66,
          223.27,
          221.1,
          222.72,
          216.12,
          214.14,
          201.38,
          207.83,
          197.49
         ],
         "high": [
          392.73,
          427.93,
          427,
          450,
          465.33,
          462.78,
          434.51,
          447.08,
          456.36,
          488.54,
          483.99,
          463.19,
          436.3,
          429.3,
          424.88,
          409.73,
          404.8,
          389.49,
          375.43,
          358.1,
          355.69,
          360,
          345.45,
          342.55,
          346.96,
          361.93,
          361.53,
          347.99,
          346.6,
          347.38,
          348.55,
          324.68,
          329.98,
          344.6,
          345.84,
          358.64,
          328.71,
          299.75,
          289.59,
          255.28,
          248.9,
          254,
          259.75,
          263.35,
          264.98,
          273.54,
          269.49,
          262.12,
          218.72,
          218.22,
          220.48,
          222.28,
          222.08,
          222.82,
          224.26,
          221.91,
          223.34,
          242.79,
          247.43,
          246.21,
          249.83,
          250.96,
          249.79,
          251.16,
          263.98,
          264.86,
          260.7,
          261.75,
          257.05,
          257.19,
          250,
          243.99,
          244.24,
          235.68,
          234.57,
          229.96,
          232.67,
          231.45,
          228.47,
          226.4,
          219.87,
          233.6,
          235,
          222.22,
          219.9,
          214.57,
          214.89,
          211.84,
          215.66,
          219.09,
          221.48,
          224.8,
          224.66,
          228.22,
          222.98,
          219.8,
          215.88,
          208.44,
          208.49,
          199.26
         ],
         "low": [
          373.04,
          402.54,
          415.75,
          426.5,
          451.02,
          435.14,
          415.41,
          417.64,
          420.02,
          427.01,
          457.51,
          436.15,
          415.71,
          415,
          402.38,
          390.85,
          378.01,
          370.8,
          359.5,
          348.6,
          348.2,
          351.15,
          334.65,
          326.59,
          335.66,
          338.2,
          337.7,
          335.28,
          334.3,
          332.75,
          330.01,
          309.22,
          310.37,
          322.5,
          323.31,
          336,
          297.66,
          285.52,
          275.62,
          246.21,
          238.88,
          246.63,
          249.25,
          255.82,
          255.51,
          262.24,
          255.32,
          242.65,
          212.11,
          215.26,
          215.73,
          219.23,
          217.9,
          218.93,
          217.12,
          213.74,
          214.38,
          232.34,
          239.51,
          240.56,
          240.7,
          244.58,
          237.81,
          241.5,
          248.53,
          255.77,
          254.12,
          251.53,
          252.28,
          249.05,
          241.92,
          235.92,
          232.13,
          226.88,
          226.55,
          223.53,
          226.32,
          223.83,
          216.8,
          218.64,
          213.67,
          210.51,
          222.25,
          210.57,
          209.64,
          207.03,
          205.97,
          202.59,
          206.94,
          211.01,
          214.21,
          210.32,
          218.86,
          219.56,
          214.09,
          210.8,
          204.82,
          198.75,
          197.06,
          194.67
         ],
         "open": [
          390.1,
          423.79,
          419.4,
          449.52,
          465.16,
          435.9,
          431,
          425.5,
          451.88,
          466.5,
          475.9,
          441.09,
          420,
          424.84,
          409.7,
          392.68,
          397.61,
          377.42,
          359.87,
          353,
          351.8,
          352.38,
          336.08,
          341.8,
          341,
          360.14,
          341.08,
          343.81,
          345,
          335.76,
          340.73,
          310.57,
          327.69,
          335.85,
          342.74,
          346.3,
          299.14,
          288.89,
          284.67,
          247.34,
          244.56,
          252.04,
          257.99,
          258.04,
          264.51,
          270,
          256.01,
          244.68,
          217.12,
          217.31,
          218.9,
          220.71,
          221.59,
          221.4,
          220.01,
          220.13,
          220.13,
          241.81,
          243.82,
          243.56,
          249,
          246.69,
          244.48,
          247.55,
          262.67,
          259.04,
          257.38,
          260.6,
          252.54,
          254.08,
          242.61,
          241.52,
          234,
          230.09,
          229.45,
          229.3,
          228,
          224.66,
          224.55,
          220.07,
          216.2,
          232.6,
          223.49,
          210.59,
          215.26,
          208.63,
          209.8,
          209.72,
          213.25,
          218.75,
          214.46,
          223.82,
          222.67,
          224.88,
          217.07,
          211.15,
          205.02,
          207.39,
          198.47,
          199.02
         ],
         "type": "candlestick",
         "x": [
          "2025-01-02T00:00:00",
          "2024-12-31T00:00:00",
          "2024-12-30T00:00:00",
          "2024-12-27T00:00:00",
          "2024-12-26T00:00:00",
          "2024-12-24T00:00:00",
          "2024-12-23T00:00:00",
          "2024-12-20T00:00:00",
          "2024-12-19T00:00:00",
          "2024-12-18T00:00:00",
          "2024-12-17T00:00:00",
          "2024-12-16T00:00:00",
          "2024-12-13T00:00:00",
          "2024-12-12T00:00:00",
          "2024-12-11T00:00:00",
          "2024-12-10T00:00:00",
          "2024-12-09T00:00:00",
          "2024-12-06T00:00:00",
          "2024-12-05T00:00:00",
          "2024-12-04T00:00:00",
          "2024-12-03T00:00:00",
          "2024-12-02T00:00:00",
          "2024-11-29T00:00:00",
          "2024-11-27T00:00:00",
          "2024-11-26T00:00:00",
          "2024-11-25T00:00:00",
          "2024-11-22T00:00:00",
          "2024-11-21T00:00:00",
          "2024-11-20T00:00:00",
          "2024-11-19T00:00:00",
          "2024-11-18T00:00:00",
          "2024-11-15T00:00:00",
          "2024-11-14T00:00:00",
          "2024-11-13T00:00:00",
          "2024-11-12T00:00:00",
          "2024-11-11T00:00:00",
          "2024-11-08T00:00:00",
          "2024-11-07T00:00:00",
          "2024-11-06T00:00:00",
          "2024-11-05T00:00:00",
          "2024-11-04T00:00:00",
          "2024-11-01T00:00:00",
          "2024-10-31T00:00:00",
          "2024-10-30T00:00:00",
          "2024-10-29T00:00:00",
          "2024-10-28T00:00:00",
          "2024-10-25T00:00:00",
          "2024-10-24T00:00:00",
          "2024-10-23T00:00:00",
          "2024-10-22T00:00:00",
          "2024-10-21T00:00:00",
          "2024-10-18T00:00:00",
          "2024-10-17T00:00:00",
          "2024-10-16T00:00:00",
          "2024-10-15T00:00:00",
          "2024-10-14T00:00:00",
          "2024-10-11T00:00:00",
          "2024-10-10T00:00:00",
          "2024-10-09T00:00:00",
          "2024-10-08T00:00:00",
          "2024-10-07T00:00:00",
          "2024-10-04T00:00:00",
          "2024-10-03T00:00:00",
          "2024-10-02T00:00:00",
          "2024-10-01T00:00:00",
          "2024-09-30T00:00:00",
          "2024-09-27T00:00:00",
          "2024-09-26T00:00:00",
          "2024-09-25T00:00:00",
          "2024-09-24T00:00:00",
          "2024-09-23T00:00:00",
          "2024-09-20T00:00:00",
          "2024-09-19T00:00:00",
          "2024-09-18T00:00:00",
          "2024-09-17T00:00:00",
          "2024-09-16T00:00:00",
          "2024-09-13T00:00:00",
          "2024-09-12T00:00:00",
          "2024-09-11T00:00:00",
          "2024-09-10T00:00:00",
          "2024-09-09T00:00:00",
          "2024-09-06T00:00:00",
          "2024-09-05T00:00:00",
          "2024-09-04T00:00:00",
          "2024-09-03T00:00:00",
          "2024-08-30T00:00:00",
          "2024-08-29T00:00:00",
          "2024-08-28T00:00:00",
          "2024-08-27T00:00:00",
          "2024-08-26T00:00:00",
          "2024-08-23T00:00:00",
          "2024-08-22T00:00:00",
          "2024-08-21T00:00:00",
          "2024-08-20T00:00:00",
          "2024-08-19T00:00:00",
          "2024-08-16T00:00:00",
          "2024-08-15T00:00:00",
          "2024-08-14T00:00:00",
          "2024-08-13T00:00:00",
          "2024-08-12T00:00:00"
         ]
        }
       ],
       "layout": {
        "height": 800,
        "template": {
         "data": {
          "bar": [
           {
            "error_x": {
             "color": "#2a3f5f"
            },
            "error_y": {
             "color": "#2a3f5f"
            },
            "marker": {
             "line": {
              "color": "#E5ECF6",
              "width": 0.5
             },
             "pattern": {
              "fillmode": "overlay",
              "size": 10,
              "solidity": 0.2
             }
            },
            "type": "bar"
           }
          ],
          "barpolar": [
           {
            "marker": {
             "line": {
              "color": "#E5ECF6",
              "width": 0.5
             },
             "pattern": {
              "fillmode": "overlay",
              "size": 10,
              "solidity": 0.2
             }
            },
            "type": "barpolar"
           }
          ],
          "carpet": [
           {
            "aaxis": {
             "endlinecolor": "#2a3f5f",
             "gridcolor": "white",
             "linecolor": "white",
             "minorgridcolor": "white",
             "startlinecolor": "#2a3f5f"
            },
            "baxis": {
             "endlinecolor": "#2a3f5f",
             "gridcolor": "white",
             "linecolor": "white",
             "minorgridcolor": "white",
             "startlinecolor": "#2a3f5f"
            },
            "type": "carpet"
           }
          ],
          "choropleth": [
           {
            "colorbar": {
             "outlinewidth": 0,
             "ticks": ""
            },
            "type": "choropleth"
           }
          ],
          "contour": [
           {
            "colorbar": {
             "outlinewidth": 0,
             "ticks": ""
            },
            "colorscale": [
             [
              0,
              "#0d0887"
             ],
             [
              0.1111111111111111,
              "#46039f"
             ],
             [
              0.2222222222222222,
              "#7201a8"
             ],
             [
              0.3333333333333333,
              "#9c179e"
             ],
             [
              0.4444444444444444,
              "#bd3786"
             ],
             [
              0.5555555555555556,
              "#d8576b"
             ],
             [
              0.6666666666666666,
              "#ed7953"
             ],
             [
              0.7777777777777778,
              "#fb9f3a"
             ],
             [
              0.8888888888888888,
              "#fdca26"
             ],
             [
              1,
              "#f0f921"
             ]
            ],
            "type": "contour"
           }
          ],
          "contourcarpet": [
           {
            "colorbar": {
             "outlinewidth": 0,
             "ticks": ""
            },
            "type": "contourcarpet"
           }
          ],
          "heatmap": [
           {
            "colorbar": {
             "outlinewidth": 0,
             "ticks": ""
            },
            "colorscale": [
             [
              0,
              "#0d0887"
             ],
             [
              0.1111111111111111,
              "#46039f"
             ],
             [
              0.2222222222222222,
              "#7201a8"
             ],
             [
              0.3333333333333333,
              "#9c179e"
             ],
             [
              0.4444444444444444,
              "#bd3786"
             ],
             [
              0.5555555555555556,
              "#d8576b"
             ],
             [
              0.6666666666666666,
              "#ed7953"
             ],
             [
              0.7777777777777778,
              "#fb9f3a"
             ],
             [
              0.8888888888888888,
              "#fdca26"
             ],
             [
              1,
              "#f0f921"
             ]
            ],
            "type": "heatmap"
           }
          ],
          "heatmapgl": [
           {
            "colorbar": {
             "outlinewidth": 0,
             "ticks": ""
            },
            "colorscale": [
             [
              0,
              "#0d0887"
             ],
             [
              0.1111111111111111,
              "#46039f"
             ],
             [
              0.2222222222222222,
              "#7201a8"
             ],
             [
              0.3333333333333333,
              "#9c179e"
             ],
             [
              0.4444444444444444,
              "#bd3786"
             ],
             [
              0.5555555555555556,
              "#d8576b"
             ],
             [
              0.6666666666666666,
              "#ed7953"
             ],
             [
              0.7777777777777778,
              "#fb9f3a"
             ],
             [
              0.8888888888888888,
              "#fdca26"
             ],
             [
              1,
              "#f0f921"
             ]
            ],
            "type": "heatmapgl"
           }
          ],
          "histogram": [
           {
            "marker": {
             "pattern": {
              "fillmode": "overlay",
              "size": 10,
              "solidity": 0.2
             }
            },
            "type": "histogram"
           }
          ],
          "histogram2d": [
           {
            "colorbar": {
             "outlinewidth": 0,
             "ticks": ""
            },
            "colorscale": [
             [
              0,
              "#0d0887"
             ],
             [
              0.1111111111111111,
              "#46039f"
             ],
             [
              0.2222222222222222,
              "#7201a8"
             ],
             [
              0.3333333333333333,
              "#9c179e"
             ],
             [
              0.4444444444444444,
              "#bd3786"
             ],
             [
              0.5555555555555556,
              "#d8576b"
             ],
             [
              0.6666666666666666,
              "#ed7953"
             ],
             [
              0.7777777777777778,
              "#fb9f3a"
             ],
             [
              0.8888888888888888,
              "#fdca26"
             ],
             [
              1,
              "#f0f921"
             ]
            ],
            "type": "histogram2d"
           }
          ],
          "histogram2dcontour": [
           {
            "colorbar": {
             "outlinewidth": 0,
             "ticks": ""
            },
            "colorscale": [
             [
              0,
              "#0d0887"
             ],
             [
              0.1111111111111111,
              "#46039f"
             ],
             [
              0.2222222222222222,
              "#7201a8"
             ],
             [
              0.3333333333333333,
              "#9c179e"
             ],
             [
              0.4444444444444444,
              "#bd3786"
             ],
             [
              0.5555555555555556,
              "#d8576b"
             ],
             [
              0.6666666666666666,
              "#ed7953"
             ],
             [
              0.7777777777777778,
              "#fb9f3a"
             ],
             [
              0.8888888888888888,
              "#fdca26"
             ],
             [
              1,
              "#f0f921"
             ]
            ],
            "type": "histogram2dcontour"
           }
          ],
          "mesh3d": [
           {
            "colorbar": {
             "outlinewidth": 0,
             "ticks": ""
            },
            "type": "mesh3d"
           }
          ],
          "parcoords": [
           {
            "line": {
             "colorbar": {
              "outlinewidth": 0,
              "ticks": ""
             }
            },
            "type": "parcoords"
           }
          ],
          "pie": [
           {
            "automargin": true,
            "type": "pie"
           }
          ],
          "scatter": [
           {
            "fillpattern": {
             "fillmode": "overlay",
             "size": 10,
             "solidity": 0.2
            },
            "type": "scatter"
           }
          ],
          "scatter3d": [
           {
            "line": {
             "colorbar": {
              "outlinewidth": 0,
              "ticks": ""
             }
            },
            "marker": {
             "colorbar": {
              "outlinewidth": 0,
              "ticks": ""
             }
            },
            "type": "scatter3d"
           }
          ],
          "scattercarpet": [
           {
            "marker": {
             "colorbar": {
              "outlinewidth": 0,
              "ticks": ""
             }
            },
            "type": "scattercarpet"
           }
          ],
          "scattergeo": [
           {
            "marker": {
             "colorbar": {
              "outlinewidth": 0,
              "ticks": ""
             }
            },
            "type": "scattergeo"
           }
          ],
          "scattergl": [
           {
            "marker": {
             "colorbar": {
              "outlinewidth": 0,
              "ticks": ""
             }
            },
            "type": "scattergl"
           }
          ],
          "scattermapbox": [
           {
            "marker": {
             "colorbar": {
              "outlinewidth": 0,
              "ticks": ""
             }
            },
            "type": "scattermapbox"
           }
          ],
          "scatterpolar": [
           {
            "marker": {
             "colorbar": {
              "outlinewidth": 0,
              "ticks": ""
             }
            },
            "type": "scatterpolar"
           }
          ],
          "scatterpolargl": [
           {
            "marker": {
             "colorbar": {
              "outlinewidth": 0,
              "ticks": ""
             }
            },
            "type": "scatterpolargl"
           }
          ],
          "scatterternary": [
           {
            "marker": {
             "colorbar": {
              "outlinewidth": 0,
              "ticks": ""
             }
            },
            "type": "scatterternary"
           }
          ],
          "surface": [
           {
            "colorbar": {
             "outlinewidth": 0,
             "ticks": ""
            },
            "colorscale": [
             [
              0,
              "#0d0887"
             ],
             [
              0.1111111111111111,
              "#46039f"
             ],
             [
              0.2222222222222222,
              "#7201a8"
             ],
             [
              0.3333333333333333,
              "#9c179e"
             ],
             [
              0.4444444444444444,
              "#bd3786"
             ],
             [
              0.5555555555555556,
              "#d8576b"
             ],
             [
              0.6666666666666666,
              "#ed7953"
             ],
             [
              0.7777777777777778,
              "#fb9f3a"
             ],
             [
              0.8888888888888888,
              "#fdca26"
             ],
             [
              1,
              "#f0f921"
             ]
            ],
            "type": "surface"
           }
          ],
          "table": [
           {
            "cells": {
             "fill": {
              "color": "#EBF0F8"
             },
             "line": {
              "color": "white"
             }
            },
            "header": {
             "fill": {
              "color": "#C8D4E3"
             },
             "line": {
              "color": "white"
             }
            },
            "type": "table"
           }
          ]
         },
         "layout": {
          "annotationdefaults": {
           "arrowcolor": "#2a3f5f",
           "arrowhead": 0,
           "arrowwidth": 1
          },
          "autotypenumbers": "strict",
          "coloraxis": {
           "colorbar": {
            "outlinewidth": 0,
            "ticks": ""
           }
          },
          "colorscale": {
           "diverging": [
            [
             0,
             "#8e0152"
            ],
            [
             0.1,
             "#c51b7d"
            ],
            [
             0.2,
             "#de77ae"
            ],
            [
             0.3,
             "#f1b6da"
            ],
            [
             0.4,
             "#fde0ef"
            ],
            [
             0.5,
             "#f7f7f7"
            ],
            [
             0.6,
             "#e6f5d0"
            ],
            [
             0.7,
             "#b8e186"
            ],
            [
             0.8,
             "#7fbc41"
            ],
            [
             0.9,
             "#4d9221"
            ],
            [
             1,
             "#276419"
            ]
           ],
           "sequential": [
            [
             0,
             "#0d0887"
            ],
            [
             0.1111111111111111,
             "#46039f"
            ],
            [
             0.2222222222222222,
             "#7201a8"
            ],
            [
             0.3333333333333333,
             "#9c179e"
            ],
            [
             0.4444444444444444,
             "#bd3786"
            ],
            [
             0.5555555555555556,
             "#d8576b"
            ],
            [
             0.6666666666666666,
             "#ed7953"
            ],
            [
             0.7777777777777778,
             "#fb9f3a"
            ],
            [
             0.8888888888888888,
             "#fdca26"
            ],
            [
             1,
             "#f0f921"
            ]
           ],
           "sequentialminus": [
            [
             0,
             "#0d0887"
            ],
            [
             0.1111111111111111,
             "#46039f"
            ],
            [
             0.2222222222222222,
             "#7201a8"
            ],
            [
             0.3333333333333333,
             "#9c179e"
            ],
            [
             0.4444444444444444,
             "#bd3786"
            ],
            [
             0.5555555555555556,
             "#d8576b"
            ],
            [
             0.6666666666666666,
             "#ed7953"
            ],
            [
             0.7777777777777778,
             "#fb9f3a"
            ],
            [
             0.8888888888888888,
             "#fdca26"
            ],
            [
             1,
             "#f0f921"
            ]
           ]
          },
          "colorway": [
           "#636efa",
           "#EF553B",
           "#00cc96",
           "#ab63fa",
           "#FFA15A",
           "#19d3f3",
           "#FF6692",
           "#B6E880",
           "#FF97FF",
           "#FECB52"
          ],
          "font": {
           "color": "#2a3f5f"
          },
          "geo": {
           "bgcolor": "white",
           "lakecolor": "white",
           "landcolor": "#E5ECF6",
           "showlakes": true,
           "showland": true,
           "subunitcolor": "white"
          },
          "hoverlabel": {
           "align": "left"
          },
          "hovermode": "closest",
          "mapbox": {
           "style": "light"
          },
          "paper_bgcolor": "white",
          "plot_bgcolor": "#E5ECF6",
          "polar": {
           "angularaxis": {
            "gridcolor": "white",
            "linecolor": "white",
            "ticks": ""
           },
           "bgcolor": "#E5ECF6",
           "radialaxis": {
            "gridcolor": "white",
            "linecolor": "white",
            "ticks": ""
           }
          },
          "scene": {
           "xaxis": {
            "backgroundcolor": "#E5ECF6",
            "gridcolor": "white",
            "gridwidth": 2,
            "linecolor": "white",
            "showbackground": true,
            "ticks": "",
            "zerolinecolor": "white"
           },
           "yaxis": {
            "backgroundcolor": "#E5ECF6",
            "gridcolor": "white",
            "gridwidth": 2,
            "linecolor": "white",
            "showbackground": true,
            "ticks": "",
            "zerolinecolor": "white"
           },
           "zaxis": {
            "backgroundcolor": "#E5ECF6",
            "gridcolor": "white",
            "gridwidth": 2,
            "linecolor": "white",
            "showbackground": true,
            "ticks": "",
            "zerolinecolor": "white"
           }
          },
          "shapedefaults": {
           "line": {
            "color": "#2a3f5f"
           }
          },
          "ternary": {
           "aaxis": {
            "gridcolor": "white",
            "linecolor": "white",
            "ticks": ""
           },
           "baxis": {
            "gridcolor": "white",
            "linecolor": "white",
            "ticks": ""
           },
           "bgcolor": "#E5ECF6",
           "caxis": {
            "gridcolor": "white",
            "linecolor": "white",
            "ticks": ""
           }
          },
          "title": {
           "x": 0.05
          },
          "xaxis": {
           "automargin": true,
           "gridcolor": "white",
           "linecolor": "white",
           "ticks": "",
           "title": {
            "standoff": 15
           },
           "zerolinecolor": "white",
           "zerolinewidth": 2
          },
          "yaxis": {
           "automargin": true,
           "gridcolor": "white",
           "linecolor": "white",
           "ticks": "",
           "title": {
            "standoff": 15
           },
           "zerolinecolor": "white",
           "zerolinewidth": 2
          }
         }
        },
        "width": 1200
       }
      }
     },
     "metadata": {},
     "output_type": "display_data"
    }
   ],
   "source": [
    "client.plot_candlestick(df3)"
   ]
  },
  {
   "cell_type": "code",
   "execution_count": null,
   "metadata": {},
   "outputs": [],
   "source": []
  }
 ],
 "metadata": {
  "kernelspec": {
   "display_name": "venv",
   "language": "python",
   "name": "python3"
  },
  "language_info": {
   "codemirror_mode": {
    "name": "ipython",
    "version": 3
   },
   "file_extension": ".py",
   "mimetype": "text/x-python",
   "name": "python",
   "nbconvert_exporter": "python",
   "pygments_lexer": "ipython3",
   "version": "3.12.1"
  }
 },
 "nbformat": 4,
 "nbformat_minor": 2
}
